{
 "cells": [
  {
   "cell_type": "code",
   "execution_count": 10,
   "metadata": {},
   "outputs": [
    {
     "name": "stdout",
     "output_type": "stream",
     "text": [
      "--2020-11-15 22:46:03--  https://www6.ohiosos.gov/ords/f?p=VOTERFTP:DOWNLOAD::FILE:NO:2:P2_PRODUCT_NUMBER:1\n",
      "Resolving www6.ohiosos.gov (www6.ohiosos.gov)... 104.16.134.50, 104.16.135.50\n",
      "Connecting to www6.ohiosos.gov (www6.ohiosos.gov)|104.16.134.50|:443... connected.\n",
      "HTTP request sent, awaiting response... 200 \n",
      "Length: 9254885 (8.8M) [application/octet]\n",
      "Saving to: ‘f?p=VOTERFTP:DOWNLOAD::FILE:NO:2:P2_PRODUCT_NUMBER:1’\n",
      "\n",
      "f?p=VOTERFTP:DOWNLO 100%[===================>]   8.83M  3.99MB/s    in 2.2s    \n",
      "\n",
      "2020-11-15 22:46:06 (3.99 MB/s) - ‘f?p=VOTERFTP:DOWNLOAD::FILE:NO:2:P2_PRODUCT_NUMBER:1’ saved [9254885/9254885]\n",
      "\n",
      "--2020-11-15 22:46:06--  https://www6.ohiosos.gov/ords/f?p=VOTERFTP:DOWNLOAD::FILE:NO:2:P2_PRODUCT_NUMBER:2\n",
      "Resolving www6.ohiosos.gov (www6.ohiosos.gov)... 104.16.134.50, 104.16.135.50\n",
      "Connecting to www6.ohiosos.gov (www6.ohiosos.gov)|104.16.134.50|:443... connected.\n",
      "HTTP request sent, awaiting response... 200 \n",
      "Length: 35222157 (34M) [application/octet]\n",
      "Saving to: ‘f?p=VOTERFTP:DOWNLOAD::FILE:NO:2:P2_PRODUCT_NUMBER:2’\n",
      "\n",
      "f?p=VOTERFTP:DOWNLO 100%[===================>]  33.59M  4.14MB/s    in 8.6s    \n",
      "\n",
      "2020-11-15 22:46:15 (3.93 MB/s) - ‘f?p=VOTERFTP:DOWNLOAD::FILE:NO:2:P2_PRODUCT_NUMBER:2’ saved [35222157/35222157]\n",
      "\n",
      "--2020-11-15 22:46:15--  https://www6.ohiosos.gov/ords/f?p=VOTERFTP:DOWNLOAD::FILE:NO:2:P2_PRODUCT_NUMBER:3\n",
      "Resolving www6.ohiosos.gov (www6.ohiosos.gov)... 104.16.134.50, 104.16.135.50\n",
      "Connecting to www6.ohiosos.gov (www6.ohiosos.gov)|104.16.134.50|:443... connected.\n",
      "HTTP request sent, awaiting response... 200 \n",
      "Length: 19077689 (18M) [application/octet]\n",
      "Saving to: ‘f?p=VOTERFTP:DOWNLOAD::FILE:NO:2:P2_PRODUCT_NUMBER:3’\n",
      "\n",
      "f?p=VOTERFTP:DOWNLO 100%[===================>]  18.19M  3.12MB/s    in 5.4s    \n",
      "\n",
      "2020-11-15 22:46:21 (3.35 MB/s) - ‘f?p=VOTERFTP:DOWNLOAD::FILE:NO:2:P2_PRODUCT_NUMBER:3’ saved [19077689/19077689]\n",
      "\n",
      "--2020-11-15 22:46:21--  https://www6.ohiosos.gov/ords/f?p=VOTERFTP:DOWNLOAD::FILE:NO:2:P2_PRODUCT_NUMBER:4\n",
      "Resolving www6.ohiosos.gov (www6.ohiosos.gov)... 104.16.134.50, 104.16.135.50\n",
      "Connecting to www6.ohiosos.gov (www6.ohiosos.gov)|104.16.134.50|:443... connected.\n",
      "HTTP request sent, awaiting response... 200 \n",
      "Length: 32837671 (31M) [application/octet]\n",
      "Saving to: ‘f?p=VOTERFTP:DOWNLOAD::FILE:NO:2:P2_PRODUCT_NUMBER:4’\n",
      "\n",
      "f?p=VOTERFTP:DOWNLO 100%[===================>]  31.32M  3.01MB/s    in 11s     \n",
      "\n",
      "2020-11-15 22:46:32 (2.96 MB/s) - ‘f?p=VOTERFTP:DOWNLOAD::FILE:NO:2:P2_PRODUCT_NUMBER:4’ saved [32837671/32837671]\n",
      "\n",
      "--2020-11-15 22:46:32--  https://www6.ohiosos.gov/ords/f?p=VOTERFTP:DOWNLOAD::FILE:NO:2:P2_PRODUCT_NUMBER:5\n",
      "Resolving www6.ohiosos.gov (www6.ohiosos.gov)... 104.16.134.50, 104.16.135.50\n",
      "Connecting to www6.ohiosos.gov (www6.ohiosos.gov)|104.16.134.50|:443... connected.\n",
      "HTTP request sent, awaiting response... 200 \n",
      "Length: 20242684 (19M) [application/octet]\n",
      "Saving to: ‘f?p=VOTERFTP:DOWNLOAD::FILE:NO:2:P2_PRODUCT_NUMBER:5’\n",
      "\n",
      "f?p=VOTERFTP:DOWNLO 100%[===================>]  19.30M  4.01MB/s    in 4.8s    \n",
      "\n",
      "2020-11-15 22:46:37 (4.00 MB/s) - ‘f?p=VOTERFTP:DOWNLOAD::FILE:NO:2:P2_PRODUCT_NUMBER:5’ saved [20242684/20242684]\n",
      "\n",
      "--2020-11-15 22:46:37--  https://www6.ohiosos.gov/ords/f?p=VOTERFTP:DOWNLOAD::FILE:NO:2:P2_PRODUCT_NUMBER:6\n",
      "Resolving www6.ohiosos.gov (www6.ohiosos.gov)... 104.16.134.50, 104.16.135.50\n",
      "Connecting to www6.ohiosos.gov (www6.ohiosos.gov)|104.16.134.50|:443... connected.\n",
      "HTTP request sent, awaiting response... 200 \n",
      "Length: 17468719 (17M) [application/octet]\n",
      "Saving to: ‘f?p=VOTERFTP:DOWNLOAD::FILE:NO:2:P2_PRODUCT_NUMBER:6’\n",
      "\n",
      "f?p=VOTERFTP:DOWNLO 100%[===================>]  16.66M  4.12MB/s    in 4.1s    \n",
      "\n",
      "2020-11-15 22:46:42 (4.09 MB/s) - ‘f?p=VOTERFTP:DOWNLOAD::FILE:NO:2:P2_PRODUCT_NUMBER:6’ saved [17468719/17468719]\n",
      "\n",
      "--2020-11-15 22:46:42--  https://www6.ohiosos.gov/ords/f?p=VOTERFTP:DOWNLOAD::FILE:NO:2:P2_PRODUCT_NUMBER:7\n",
      "Resolving www6.ohiosos.gov (www6.ohiosos.gov)... 104.16.134.50, 104.16.135.50\n",
      "Connecting to www6.ohiosos.gov (www6.ohiosos.gov)|104.16.134.50|:443... connected.\n",
      "HTTP request sent, awaiting response... 200 \n",
      "Length: 26392531 (25M) [application/octet]\n",
      "Saving to: ‘f?p=VOTERFTP:DOWNLOAD::FILE:NO:2:P2_PRODUCT_NUMBER:7’\n",
      "\n",
      "f?p=VOTERFTP:DOWNLO 100%[===================>]  25.17M  4.13MB/s    in 6.1s    \n",
      "\n",
      "2020-11-15 22:46:48 (4.15 MB/s) - ‘f?p=VOTERFTP:DOWNLOAD::FILE:NO:2:P2_PRODUCT_NUMBER:7’ saved [26392531/26392531]\n",
      "\n",
      "--2020-11-15 22:46:48--  https://www6.ohiosos.gov/ords/f?p=VOTERFTP:DOWNLOAD::FILE:NO:2:P2_PRODUCT_NUMBER:8\n",
      "Resolving www6.ohiosos.gov (www6.ohiosos.gov)... 104.16.134.50, 104.16.135.50\n",
      "Connecting to www6.ohiosos.gov (www6.ohiosos.gov)|104.16.134.50|:443... connected.\n",
      "HTTP request sent, awaiting response... 200 \n",
      "Length: 16372086 (16M) [application/octet]\n",
      "Saving to: ‘f?p=VOTERFTP:DOWNLOAD::FILE:NO:2:P2_PRODUCT_NUMBER:8’\n",
      "\n",
      "f?p=VOTERFTP:DOWNLO 100%[===================>]  15.61M  3.33MB/s    in 4.8s    \n",
      "\n",
      "2020-11-15 22:46:53 (3.28 MB/s) - ‘f?p=VOTERFTP:DOWNLOAD::FILE:NO:2:P2_PRODUCT_NUMBER:8’ saved [16372086/16372086]\n",
      "\n",
      "--2020-11-15 22:46:53--  https://www6.ohiosos.gov/ords/f?p=VOTERFTP:DOWNLOAD::FILE:NO:2:P2_PRODUCT_NUMBER:9\n",
      "Resolving www6.ohiosos.gov (www6.ohiosos.gov)... 104.16.134.50, 104.16.135.50\n",
      "Connecting to www6.ohiosos.gov (www6.ohiosos.gov)|104.16.134.50|:443... connected.\n",
      "HTTP request sent, awaiting response... 200 \n",
      "Length: 132282445 (126M) [application/octet]\n",
      "Saving to: ‘f?p=VOTERFTP:DOWNLOAD::FILE:NO:2:P2_PRODUCT_NUMBER:9’\n",
      "\n",
      "f?p=VOTERFTP:DOWNLO 100%[===================>] 126.15M  4.14MB/s    in 34s     \n",
      "\n",
      "2020-11-15 22:47:28 (3.73 MB/s) - ‘f?p=VOTERFTP:DOWNLOAD::FILE:NO:2:P2_PRODUCT_NUMBER:9’ saved [132282445/132282445]\n",
      "\n",
      "--2020-11-15 22:47:28--  https://www6.ohiosos.gov/ords/f?p=VOTERFTP:DOWNLOAD::FILE:NO:2:P2_PRODUCT_NUMBER:10\n",
      "Resolving www6.ohiosos.gov (www6.ohiosos.gov)... 104.16.134.50, 104.16.135.50\n",
      "Connecting to www6.ohiosos.gov (www6.ohiosos.gov)|104.16.134.50|:443... connected.\n",
      "HTTP request sent, awaiting response... 200 \n",
      "Length: 9663995 (9.2M) [application/octet]\n",
      "Saving to: ‘f?p=VOTERFTP:DOWNLOAD::FILE:NO:2:P2_PRODUCT_NUMBER:10’\n",
      "\n",
      "f?p=VOTERFTP:DOWNLO 100%[===================>]   9.22M  3.91MB/s    in 2.4s    \n",
      "\n",
      "2020-11-15 22:47:31 (3.91 MB/s) - ‘f?p=VOTERFTP:DOWNLOAD::FILE:NO:2:P2_PRODUCT_NUMBER:10’ saved [9663995/9663995]\n",
      "\n",
      "--2020-11-15 22:47:31--  https://www6.ohiosos.gov/ords/f?p=VOTERFTP:DOWNLOAD::FILE:NO:2:P2_PRODUCT_NUMBER:11\n",
      "Resolving www6.ohiosos.gov (www6.ohiosos.gov)... 104.16.134.50, 104.16.135.50\n",
      "Connecting to www6.ohiosos.gov (www6.ohiosos.gov)|104.16.134.50|:443... connected.\n",
      "HTTP request sent, awaiting response... 200 \n",
      "Length: 14732209 (14M) [application/octet]\n",
      "Saving to: ‘f?p=VOTERFTP:DOWNLOAD::FILE:NO:2:P2_PRODUCT_NUMBER:11’\n",
      "\n",
      "f?p=VOTERFTP:DOWNLO 100%[===================>]  14.05M  1.44MB/s    in 6.4s    \n",
      "\n",
      "2020-11-15 22:47:38 (2.18 MB/s) - ‘f?p=VOTERFTP:DOWNLOAD::FILE:NO:2:P2_PRODUCT_NUMBER:11’ saved [14732209/14732209]\n",
      "\n",
      "--2020-11-15 22:47:38--  https://www6.ohiosos.gov/ords/f?p=VOTERFTP:DOWNLOAD::FILE:NO:2:P2_PRODUCT_NUMBER:12\n",
      "Resolving www6.ohiosos.gov (www6.ohiosos.gov)... 104.16.134.50, 104.16.135.50\n",
      "Connecting to www6.ohiosos.gov (www6.ohiosos.gov)|104.16.134.50|:443... connected.\n",
      "HTTP request sent, awaiting response... 200 \n",
      "Length: 49561827 (47M) [application/octet]\n",
      "Saving to: ‘f?p=VOTERFTP:DOWNLOAD::FILE:NO:2:P2_PRODUCT_NUMBER:12’\n",
      "\n",
      "f?p=VOTERFTP:DOWNLO 100%[===================>]  47.27M  3.14MB/s    in 13s     \n",
      "\n",
      "2020-11-15 22:47:52 (3.57 MB/s) - ‘f?p=VOTERFTP:DOWNLOAD::FILE:NO:2:P2_PRODUCT_NUMBER:12’ saved [49561827/49561827]\n",
      "\n",
      "--2020-11-15 22:47:52--  https://www6.ohiosos.gov/ords/f?p=VOTERFTP:DOWNLOAD::FILE:NO:2:P2_PRODUCT_NUMBER:13\n",
      "Resolving www6.ohiosos.gov (www6.ohiosos.gov)... 104.16.134.50, 104.16.135.50\n",
      "Connecting to www6.ohiosos.gov (www6.ohiosos.gov)|104.16.134.50|:443... connected.\n",
      "HTTP request sent, awaiting response... 200 \n",
      "Length: 73651957 (70M) [application/octet]\n",
      "Saving to: ‘f?p=VOTERFTP:DOWNLOAD::FILE:NO:2:P2_PRODUCT_NUMBER:13’\n",
      "\n",
      "f?p=VOTERFTP:DOWNLO 100%[===================>]  70.24M  3.00MB/s    in 22s     \n",
      "\n",
      "2020-11-15 22:48:15 (3.16 MB/s) - ‘f?p=VOTERFTP:DOWNLOAD::FILE:NO:2:P2_PRODUCT_NUMBER:13’ saved [73651957/73651957]\n",
      "\n",
      "--2020-11-15 22:48:15--  https://www6.ohiosos.gov/ords/f?p=VOTERFTP:DOWNLOAD::FILE:NO:2:P2_PRODUCT_NUMBER:14\n",
      "Resolving www6.ohiosos.gov (www6.ohiosos.gov)... 104.16.134.50, 104.16.135.50\n",
      "Connecting to www6.ohiosos.gov (www6.ohiosos.gov)|104.16.134.50|:443... connected.\n",
      "HTTP request sent, awaiting response... 200 \n",
      "Length: 15045989 (14M) [application/octet]\n",
      "Saving to: ‘f?p=VOTERFTP:DOWNLOAD::FILE:NO:2:P2_PRODUCT_NUMBER:14’\n",
      "\n",
      "f?p=VOTERFTP:DOWNLO 100%[===================>]  14.35M  3.99MB/s    in 3.7s    \n",
      "\n",
      "2020-11-15 22:48:19 (3.87 MB/s) - ‘f?p=VOTERFTP:DOWNLOAD::FILE:NO:2:P2_PRODUCT_NUMBER:14’ saved [15045989/15045989]\n",
      "\n",
      "--2020-11-15 22:48:19--  https://www6.ohiosos.gov/ords/f?p=VOTERFTP:DOWNLOAD::FILE:NO:2:P2_PRODUCT_NUMBER:15\n",
      "Resolving www6.ohiosos.gov (www6.ohiosos.gov)... 104.16.134.50, 104.16.135.50\n",
      "Connecting to www6.ohiosos.gov (www6.ohiosos.gov)|104.16.134.50|:443... connected.\n",
      "HTTP request sent, awaiting response... 200 \n",
      "Length: 37483538 (36M) [application/octet]\n",
      "Saving to: ‘f?p=VOTERFTP:DOWNLOAD::FILE:NO:2:P2_PRODUCT_NUMBER:15’\n",
      "\n",
      "f?p=VOTERFTP:DOWNLO 100%[===================>]  35.75M  3.32MB/s    in 9.2s    \n",
      "\n",
      "2020-11-15 22:48:29 (3.87 MB/s) - ‘f?p=VOTERFTP:DOWNLOAD::FILE:NO:2:P2_PRODUCT_NUMBER:15’ saved [37483538/37483538]\n",
      "\n",
      "--2020-11-15 22:48:29--  https://www6.ohiosos.gov/ords/f?p=VOTERFTP:DOWNLOAD::FILE:NO:2:P2_PRODUCT_NUMBER:16\n",
      "Resolving www6.ohiosos.gov (www6.ohiosos.gov)... 104.16.134.50, 104.16.135.50\n",
      "Connecting to www6.ohiosos.gov (www6.ohiosos.gov)|104.16.134.50|:443... connected.\n",
      "HTTP request sent, awaiting response... 200 \n",
      "Length: 11568127 (11M) [application/octet]\n",
      "Saving to: ‘f?p=VOTERFTP:DOWNLOAD::FILE:NO:2:P2_PRODUCT_NUMBER:16’\n",
      "\n",
      "f?p=VOTERFTP:DOWNLO 100%[===================>]  11.03M  3.33MB/s    in 3.3s    \n",
      "\n",
      "2020-11-15 22:48:33 (3.37 MB/s) - ‘f?p=VOTERFTP:DOWNLOAD::FILE:NO:2:P2_PRODUCT_NUMBER:16’ saved [11568127/11568127]\n",
      "\n",
      "--2020-11-15 22:48:33--  https://www6.ohiosos.gov/ords/f?p=VOTERFTP:DOWNLOAD::FILE:NO:2:P2_PRODUCT_NUMBER:17\n",
      "Resolving www6.ohiosos.gov (www6.ohiosos.gov)... 104.16.134.50, 104.16.135.50\n",
      "Connecting to www6.ohiosos.gov (www6.ohiosos.gov)|104.16.134.50|:443... connected.\n",
      "HTTP request sent, awaiting response... 200 \n",
      "Length: 15346562 (15M) [application/octet]\n",
      "Saving to: ‘f?p=VOTERFTP:DOWNLOAD::FILE:NO:2:P2_PRODUCT_NUMBER:17’\n",
      "\n",
      "f?p=VOTERFTP:DOWNLO 100%[===================>]  14.63M  3.33MB/s    in 4.4s    \n",
      "\n",
      "2020-11-15 22:48:38 (3.30 MB/s) - ‘f?p=VOTERFTP:DOWNLOAD::FILE:NO:2:P2_PRODUCT_NUMBER:17’ saved [15346562/15346562]\n",
      "\n",
      "--2020-11-15 22:48:38--  https://www6.ohiosos.gov/ords/f?p=VOTERFTP:DOWNLOAD::FILE:NO:2:P2_PRODUCT_NUMBER:18\n",
      "Resolving www6.ohiosos.gov (www6.ohiosos.gov)... 104.16.134.50, 104.16.135.50\n",
      "Connecting to www6.ohiosos.gov (www6.ohiosos.gov)|104.16.134.50|:443... connected.\n",
      "HTTP request sent, awaiting response... 200 \n",
      "Length: 464185830 (443M) [application/octet]\n",
      "Saving to: ‘f?p=VOTERFTP:DOWNLOAD::FILE:NO:2:P2_PRODUCT_NUMBER:18’\n",
      "\n",
      "f?p=VOTERFTP:DOWNLO 100%[===================>] 442.68M  2.91MB/s    in 2m 3s   \n",
      "\n",
      "2020-11-15 22:50:44 (3.59 MB/s) - ‘f?p=VOTERFTP:DOWNLOAD::FILE:NO:2:P2_PRODUCT_NUMBER:18’ saved [464185830/464185830]\n",
      "\n",
      "--2020-11-15 22:50:44--  https://www6.ohiosos.gov/ords/f?p=VOTERFTP:DOWNLOAD::FILE:NO:2:P2_PRODUCT_NUMBER:19\n",
      "Resolving www6.ohiosos.gov (www6.ohiosos.gov)... 104.16.134.50, 104.16.135.50\n",
      "Connecting to www6.ohiosos.gov (www6.ohiosos.gov)|104.16.134.50|:443... connected.\n",
      "HTTP request sent, awaiting response... 200 \n",
      "Length: 19468403 (19M) [application/octet]\n",
      "Saving to: ‘f?p=VOTERFTP:DOWNLOAD::FILE:NO:2:P2_PRODUCT_NUMBER:19’\n",
      "\n",
      "f?p=VOTERFTP:DOWNLO 100%[===================>]  18.57M  4.19MB/s    in 4.6s    \n",
      "\n",
      "2020-11-15 22:50:49 (3.99 MB/s) - ‘f?p=VOTERFTP:DOWNLOAD::FILE:NO:2:P2_PRODUCT_NUMBER:19’ saved [19468403/19468403]\n",
      "\n",
      "--2020-11-15 22:50:49--  https://www6.ohiosos.gov/ords/f?p=VOTERFTP:DOWNLOAD::FILE:NO:2:P2_PRODUCT_NUMBER:20\n",
      "Resolving www6.ohiosos.gov (www6.ohiosos.gov)... 104.16.134.50, 104.16.135.50\n",
      "Connecting to www6.ohiosos.gov (www6.ohiosos.gov)|104.16.134.50|:443... connected.\n",
      "HTTP request sent, awaiting response... 200 \n",
      "Length: 13889664 (13M) [application/octet]\n",
      "Saving to: ‘f?p=VOTERFTP:DOWNLOAD::FILE:NO:2:P2_PRODUCT_NUMBER:20’\n",
      "\n",
      "f?p=VOTERFTP:DOWNLO 100%[===================>]  13.25M  4.19MB/s    in 3.2s    \n",
      "\n",
      "2020-11-15 22:50:53 (4.19 MB/s) - ‘f?p=VOTERFTP:DOWNLOAD::FILE:NO:2:P2_PRODUCT_NUMBER:20’ saved [13889664/13889664]\n",
      "\n",
      "--2020-11-15 22:50:53--  https://www6.ohiosos.gov/ords/f?p=VOTERFTP:DOWNLOAD::FILE:NO:2:P2_PRODUCT_NUMBER:21\n",
      "Resolving www6.ohiosos.gov (www6.ohiosos.gov)... 104.16.134.50, 104.16.135.50\n",
      "Connecting to www6.ohiosos.gov (www6.ohiosos.gov)|104.16.134.50|:443... connected.\n",
      "HTTP request sent, awaiting response... 200 \n",
      "Length: 84511316 (81M) [application/octet]\n",
      "Saving to: ‘f?p=VOTERFTP:DOWNLOAD::FILE:NO:2:P2_PRODUCT_NUMBER:21’\n",
      "\n",
      "f?p=VOTERFTP:DOWNLO 100%[===================>]  80.60M  3.93MB/s    in 21s     \n",
      "\n",
      "2020-11-15 22:51:14 (3.89 MB/s) - ‘f?p=VOTERFTP:DOWNLOAD::FILE:NO:2:P2_PRODUCT_NUMBER:21’ saved [84511316/84511316]\n",
      "\n",
      "--2020-11-15 22:51:14--  https://www6.ohiosos.gov/ords/f?p=VOTERFTP:DOWNLOAD::FILE:NO:2:P2_PRODUCT_NUMBER:22\n",
      "Resolving www6.ohiosos.gov (www6.ohiosos.gov)... 104.16.134.50, 104.16.135.50\n",
      "Connecting to www6.ohiosos.gov (www6.ohiosos.gov)|104.16.134.50|:443... connected.\n",
      "HTTP request sent, awaiting response... 200 \n",
      "Length: 28625576 (27M) [application/octet]\n",
      "Saving to: ‘f?p=VOTERFTP:DOWNLOAD::FILE:NO:2:P2_PRODUCT_NUMBER:22’\n",
      "\n",
      "f?p=VOTERFTP:DOWNLO 100%[===================>]  27.30M  4.21MB/s    in 7.2s    \n",
      "\n",
      "2020-11-15 22:51:22 (3.79 MB/s) - ‘f?p=VOTERFTP:DOWNLOAD::FILE:NO:2:P2_PRODUCT_NUMBER:22’ saved [28625576/28625576]\n",
      "\n",
      "--2020-11-15 22:51:22--  https://www6.ohiosos.gov/ords/f?p=VOTERFTP:DOWNLOAD::FILE:NO:2:P2_PRODUCT_NUMBER:23\n",
      "Resolving www6.ohiosos.gov (www6.ohiosos.gov)... 104.16.134.50, 104.16.135.50\n",
      "Connecting to www6.ohiosos.gov (www6.ohiosos.gov)|104.16.134.50|:443... connected.\n",
      "HTTP request sent, awaiting response... 200 \n",
      "Length: 61668932 (59M) [application/octet]\n",
      "Saving to: ‘f?p=VOTERFTP:DOWNLOAD::FILE:NO:2:P2_PRODUCT_NUMBER:23’\n",
      "\n",
      "f?p=VOTERFTP:DOWNLO 100%[===================>]  58.81M  4.14MB/s    in 15s     \n",
      "\n",
      "2020-11-15 22:51:38 (3.91 MB/s) - ‘f?p=VOTERFTP:DOWNLOAD::FILE:NO:2:P2_PRODUCT_NUMBER:23’ saved [61668932/61668932]\n",
      "\n",
      "--2020-11-15 22:51:38--  https://www6.ohiosos.gov/ords/f?p=VOTERFTP:DOWNLOAD::FILE:NO:2:P2_PRODUCT_NUMBER:24\n",
      "Resolving www6.ohiosos.gov (www6.ohiosos.gov)... 104.16.134.50, 104.16.135.50\n",
      "Connecting to www6.ohiosos.gov (www6.ohiosos.gov)|104.16.134.50|:443... connected.\n",
      "HTTP request sent, awaiting response... 200 \n",
      "Length: 9080629 (8.7M) [application/octet]\n",
      "Saving to: ‘f?p=VOTERFTP:DOWNLOAD::FILE:NO:2:P2_PRODUCT_NUMBER:24’\n",
      "\n",
      "f?p=VOTERFTP:DOWNLO 100%[===================>]   8.66M  3.67MB/s    in 2.4s    \n",
      "\n",
      "2020-11-15 22:51:41 (3.67 MB/s) - ‘f?p=VOTERFTP:DOWNLOAD::FILE:NO:2:P2_PRODUCT_NUMBER:24’ saved [9080629/9080629]\n",
      "\n",
      "--2020-11-15 22:51:41--  https://www6.ohiosos.gov/ords/f?p=VOTERFTP:DOWNLOAD::FILE:NO:2:P2_PRODUCT_NUMBER:25\n",
      "Resolving www6.ohiosos.gov (www6.ohiosos.gov)... 104.16.134.50, 104.16.135.50\n",
      "Connecting to www6.ohiosos.gov (www6.ohiosos.gov)|104.16.134.50|:443... connected.\n",
      "HTTP request sent, awaiting response... 200 \n",
      "Length: 408282486 (389M) [application/octet]\n",
      "Saving to: ‘f?p=VOTERFTP:DOWNLOAD::FILE:NO:2:P2_PRODUCT_NUMBER:25’\n",
      "\n",
      "f?p=VOTERFTP:DOWNLO 100%[===================>] 389.37M  4.11MB/s    in 1m 40s  \n",
      "\n",
      "2020-11-15 22:53:23 (3.89 MB/s) - ‘f?p=VOTERFTP:DOWNLOAD::FILE:NO:2:P2_PRODUCT_NUMBER:25’ saved [408282486/408282486]\n",
      "\n",
      "--2020-11-15 22:53:23--  https://www6.ohiosos.gov/ords/f?p=VOTERFTP:DOWNLOAD::FILE:NO:2:P2_PRODUCT_NUMBER:26\n",
      "Resolving www6.ohiosos.gov (www6.ohiosos.gov)... 104.16.134.50, 104.16.135.50\n",
      "Connecting to www6.ohiosos.gov (www6.ohiosos.gov)|104.16.134.50|:443... connected.\n",
      "HTTP request sent, awaiting response... 200 \n",
      "Length: 16149735 (15M) [application/octet]\n",
      "Saving to: ‘f?p=VOTERFTP:DOWNLOAD::FILE:NO:2:P2_PRODUCT_NUMBER:26’\n",
      "\n",
      "f?p=VOTERFTP:DOWNLO 100%[===================>]  15.40M  4.03MB/s    in 3.8s    \n",
      "\n",
      "2020-11-15 22:53:28 (4.10 MB/s) - ‘f?p=VOTERFTP:DOWNLOAD::FILE:NO:2:P2_PRODUCT_NUMBER:26’ saved [16149735/16149735]\n",
      "\n",
      "--2020-11-15 22:53:28--  https://www6.ohiosos.gov/ords/f?p=VOTERFTP:DOWNLOAD::FILE:NO:2:P2_PRODUCT_NUMBER:27\n",
      "Resolving www6.ohiosos.gov (www6.ohiosos.gov)... 104.16.134.50, 104.16.135.50\n",
      "Connecting to www6.ohiosos.gov (www6.ohiosos.gov)|104.16.134.50|:443... connected.\n",
      "HTTP request sent, awaiting response... 200 \n",
      "Length: 9644520 (9.2M) [application/octet]\n",
      "Saving to: ‘f?p=VOTERFTP:DOWNLOAD::FILE:NO:2:P2_PRODUCT_NUMBER:27’\n",
      "\n",
      "f?p=VOTERFTP:DOWNLO 100%[===================>]   9.20M  4.03MB/s    in 2.3s    \n",
      "\n",
      "2020-11-15 22:53:30 (4.03 MB/s) - ‘f?p=VOTERFTP:DOWNLOAD::FILE:NO:2:P2_PRODUCT_NUMBER:27’ saved [9644520/9644520]\n",
      "\n",
      "--2020-11-15 22:53:30--  https://www6.ohiosos.gov/ords/f?p=VOTERFTP:DOWNLOAD::FILE:NO:2:P2_PRODUCT_NUMBER:28\n",
      "Resolving www6.ohiosos.gov (www6.ohiosos.gov)... 104.16.134.50, 104.16.135.50\n",
      "Connecting to www6.ohiosos.gov (www6.ohiosos.gov)|104.16.134.50|:443... connected.\n",
      "HTTP request sent, awaiting response... 200 \n",
      "Length: 37656454 (36M) [application/octet]\n",
      "Saving to: ‘f?p=VOTERFTP:DOWNLOAD::FILE:NO:2:P2_PRODUCT_NUMBER:28’\n",
      "\n",
      "f?p=VOTERFTP:DOWNLO 100%[===================>]  35.91M  1.96MB/s    in 13s     \n",
      "\n",
      "2020-11-15 22:53:44 (2.72 MB/s) - ‘f?p=VOTERFTP:DOWNLOAD::FILE:NO:2:P2_PRODUCT_NUMBER:28’ saved [37656454/37656454]\n",
      "\n",
      "--2020-11-15 22:53:44--  https://www6.ohiosos.gov/ords/f?p=VOTERFTP:DOWNLOAD::FILE:NO:2:P2_PRODUCT_NUMBER:29\n",
      "Resolving www6.ohiosos.gov (www6.ohiosos.gov)... 104.16.134.50, 104.16.135.50\n",
      "Connecting to www6.ohiosos.gov (www6.ohiosos.gov)|104.16.134.50|:443... connected.\n",
      "HTTP request sent, awaiting response... 200 \n",
      "Length: 64155898 (61M) [application/octet]\n",
      "Saving to: ‘f?p=VOTERFTP:DOWNLOAD::FILE:NO:2:P2_PRODUCT_NUMBER:29’\n",
      "\n",
      "f?p=VOTERFTP:DOWNLO 100%[===================>]  61.18M  4.22MB/s    in 15s     \n",
      "\n",
      "2020-11-15 22:54:00 (4.06 MB/s) - ‘f?p=VOTERFTP:DOWNLOAD::FILE:NO:2:P2_PRODUCT_NUMBER:29’ saved [64155898/64155898]\n",
      "\n",
      "--2020-11-15 22:54:00--  https://www6.ohiosos.gov/ords/f?p=VOTERFTP:DOWNLOAD::FILE:NO:2:P2_PRODUCT_NUMBER:30\n",
      "Resolving www6.ohiosos.gov (www6.ohiosos.gov)... 104.16.134.50, 104.16.135.50\n",
      "Connecting to www6.ohiosos.gov (www6.ohiosos.gov)|104.16.134.50|:443... connected.\n",
      "HTTP request sent, awaiting response... 200 \n",
      "Length: 13117406 (13M) [application/octet]\n",
      "Saving to: ‘f?p=VOTERFTP:DOWNLOAD::FILE:NO:2:P2_PRODUCT_NUMBER:30’\n",
      "\n",
      "f?p=VOTERFTP:DOWNLO 100%[===================>]  12.51M  3.96MB/s    in 3.2s    \n",
      "\n",
      "2020-11-15 22:54:03 (3.96 MB/s) - ‘f?p=VOTERFTP:DOWNLOAD::FILE:NO:2:P2_PRODUCT_NUMBER:30’ saved [13117406/13117406]\n",
      "\n",
      "--2020-11-15 22:54:03--  https://www6.ohiosos.gov/ords/f?p=VOTERFTP:DOWNLOAD::FILE:NO:2:P2_PRODUCT_NUMBER:31\n",
      "Resolving www6.ohiosos.gov (www6.ohiosos.gov)... 104.16.134.50, 104.16.135.50\n",
      "Connecting to www6.ohiosos.gov (www6.ohiosos.gov)|104.16.134.50|:443... connected.\n",
      "HTTP request sent, awaiting response... 200 \n",
      "Length: 327737786 (313M) [application/octet]\n",
      "Saving to: ‘f?p=VOTERFTP:DOWNLOAD::FILE:NO:2:P2_PRODUCT_NUMBER:31’\n",
      "\n",
      "f?p=VOTERFTP:DOWNLO 100%[===================>] 312.55M  4.19MB/s    in 85s     \n",
      "\n",
      "2020-11-15 22:55:30 (3.67 MB/s) - ‘f?p=VOTERFTP:DOWNLOAD::FILE:NO:2:P2_PRODUCT_NUMBER:31’ saved [327737786/327737786]\n",
      "\n",
      "--2020-11-15 22:55:30--  https://www6.ohiosos.gov/ords/f?p=VOTERFTP:DOWNLOAD::FILE:NO:2:P2_PRODUCT_NUMBER:32\n",
      "Resolving www6.ohiosos.gov (www6.ohiosos.gov)... 104.16.134.50, 104.16.135.50\n",
      "Connecting to www6.ohiosos.gov (www6.ohiosos.gov)|104.16.134.50|:443... connected.\n",
      "HTTP request sent, awaiting response... 200 \n",
      "Length: 26769719 (26M) [application/octet]\n",
      "Saving to: ‘f?p=VOTERFTP:DOWNLOAD::FILE:NO:2:P2_PRODUCT_NUMBER:32’\n",
      "\n",
      "f?p=VOTERFTP:DOWNLO 100%[===================>]  25.53M  3.98MB/s    in 7.2s    \n",
      "\n",
      "2020-11-15 22:55:38 (3.56 MB/s) - ‘f?p=VOTERFTP:DOWNLOAD::FILE:NO:2:P2_PRODUCT_NUMBER:32’ saved [26769719/26769719]\n",
      "\n",
      "--2020-11-15 22:55:38--  https://www6.ohiosos.gov/ords/f?p=VOTERFTP:DOWNLOAD::FILE:NO:2:P2_PRODUCT_NUMBER:33\n",
      "Resolving www6.ohiosos.gov (www6.ohiosos.gov)... 104.16.134.50, 104.16.135.50\n",
      "Connecting to www6.ohiosos.gov (www6.ohiosos.gov)|104.16.134.50|:443... connected.\n",
      "HTTP request sent, awaiting response... 200 \n",
      "Length: 9854838 (9.4M) [application/octet]\n",
      "Saving to: ‘f?p=VOTERFTP:DOWNLOAD::FILE:NO:2:P2_PRODUCT_NUMBER:33’\n",
      "\n",
      "f?p=VOTERFTP:DOWNLO 100%[===================>]   9.40M  3.73MB/s    in 2.5s    \n",
      "\n",
      "2020-11-15 22:55:41 (3.73 MB/s) - ‘f?p=VOTERFTP:DOWNLOAD::FILE:NO:2:P2_PRODUCT_NUMBER:33’ saved [9854838/9854838]\n",
      "\n",
      "--2020-11-15 22:55:41--  https://www6.ohiosos.gov/ords/f?p=VOTERFTP:DOWNLOAD::FILE:NO:2:P2_PRODUCT_NUMBER:34\n",
      "Resolving www6.ohiosos.gov (www6.ohiosos.gov)... 104.16.134.50, 104.16.135.50\n",
      "Connecting to www6.ohiosos.gov (www6.ohiosos.gov)|104.16.134.50|:443... connected.\n",
      "HTTP request sent, awaiting response... 200 \n",
      "Length: 5605022 (5.3M) [application/octet]\n",
      "Saving to: ‘f?p=VOTERFTP:DOWNLOAD::FILE:NO:2:P2_PRODUCT_NUMBER:34’\n",
      "\n",
      "f?p=VOTERFTP:DOWNLO 100%[===================>]   5.34M  4.25MB/s    in 1.3s    \n",
      "\n",
      "2020-11-15 22:55:43 (4.25 MB/s) - ‘f?p=VOTERFTP:DOWNLOAD::FILE:NO:2:P2_PRODUCT_NUMBER:34’ saved [5605022/5605022]\n",
      "\n",
      "--2020-11-15 22:55:43--  https://www6.ohiosos.gov/ords/f?p=VOTERFTP:DOWNLOAD::FILE:NO:2:P2_PRODUCT_NUMBER:35\n",
      "Resolving www6.ohiosos.gov (www6.ohiosos.gov)... 104.16.134.50, 104.16.135.50\n",
      "Connecting to www6.ohiosos.gov (www6.ohiosos.gov)|104.16.134.50|:443... connected.\n",
      "HTTP request sent, awaiting response... 200 \n",
      "Length: 10739383 (10M) [application/octet]\n",
      "Saving to: ‘f?p=VOTERFTP:DOWNLOAD::FILE:NO:2:P2_PRODUCT_NUMBER:35’\n",
      "\n",
      "f?p=VOTERFTP:DOWNLO 100%[===================>]  10.24M  3.94MB/s    in 2.6s    \n",
      "\n",
      "2020-11-15 22:55:46 (3.94 MB/s) - ‘f?p=VOTERFTP:DOWNLOAD::FILE:NO:2:P2_PRODUCT_NUMBER:35’ saved [10739383/10739383]\n",
      "\n",
      "--2020-11-15 22:55:46--  https://www6.ohiosos.gov/ords/f?p=VOTERFTP:DOWNLOAD::FILE:NO:2:P2_PRODUCT_NUMBER:36\n",
      "Resolving www6.ohiosos.gov (www6.ohiosos.gov)... 104.16.134.50, 104.16.135.50\n",
      "Connecting to www6.ohiosos.gov (www6.ohiosos.gov)|104.16.134.50|:443... connected.\n",
      "HTTP request sent, awaiting response... 200 \n",
      "Length: 15132383 (14M) [application/octet]\n",
      "Saving to: ‘f?p=VOTERFTP:DOWNLOAD::FILE:NO:2:P2_PRODUCT_NUMBER:36’\n",
      "\n",
      "f?p=VOTERFTP:DOWNLO 100%[===================>]  14.43M  3.90MB/s    in 3.8s    \n",
      "\n",
      "2020-11-15 22:55:50 (3.77 MB/s) - ‘f?p=VOTERFTP:DOWNLOAD::FILE:NO:2:P2_PRODUCT_NUMBER:36’ saved [15132383/15132383]\n",
      "\n",
      "--2020-11-15 22:55:50--  https://www6.ohiosos.gov/ords/f?p=VOTERFTP:DOWNLOAD::FILE:NO:2:P2_PRODUCT_NUMBER:37\n",
      "Resolving www6.ohiosos.gov (www6.ohiosos.gov)... 104.16.134.50, 104.16.135.50\n",
      "Connecting to www6.ohiosos.gov (www6.ohiosos.gov)|104.16.134.50|:443... connected.\n",
      "HTTP request sent, awaiting response... 200 \n",
      "Length: 10405639 (9.9M) [application/octet]\n",
      "Saving to: ‘f?p=VOTERFTP:DOWNLOAD::FILE:NO:2:P2_PRODUCT_NUMBER:37’\n",
      "\n",
      "f?p=VOTERFTP:DOWNLO 100%[===================>]   9.92M  3.70MB/s    in 2.7s    \n",
      "\n",
      "2020-11-15 22:55:53 (3.70 MB/s) - ‘f?p=VOTERFTP:DOWNLOAD::FILE:NO:2:P2_PRODUCT_NUMBER:37’ saved [10405639/10405639]\n",
      "\n",
      "--2020-11-15 22:55:53--  https://www6.ohiosos.gov/ords/f?p=VOTERFTP:DOWNLOAD::FILE:NO:2:P2_PRODUCT_NUMBER:38\n",
      "Resolving www6.ohiosos.gov (www6.ohiosos.gov)... 104.16.134.50, 104.16.135.50\n",
      "Connecting to www6.ohiosos.gov (www6.ohiosos.gov)|104.16.134.50|:443... connected.\n",
      "HTTP request sent, awaiting response... 200 \n",
      "Length: 10197931 (9.7M) [application/octet]\n",
      "Saving to: ‘f?p=VOTERFTP:DOWNLOAD::FILE:NO:2:P2_PRODUCT_NUMBER:38’\n",
      "\n",
      "f?p=VOTERFTP:DOWNLO 100%[===================>]   9.72M  3.55MB/s    in 2.7s    \n",
      "\n",
      "2020-11-15 22:55:57 (3.55 MB/s) - ‘f?p=VOTERFTP:DOWNLOAD::FILE:NO:2:P2_PRODUCT_NUMBER:38’ saved [10197931/10197931]\n",
      "\n",
      "--2020-11-15 22:55:57--  https://www6.ohiosos.gov/ords/f?p=VOTERFTP:DOWNLOAD::FILE:NO:2:P2_PRODUCT_NUMBER:39\n",
      "Resolving www6.ohiosos.gov (www6.ohiosos.gov)... 104.16.134.50, 104.16.135.50\n",
      "Connecting to www6.ohiosos.gov (www6.ohiosos.gov)|104.16.134.50|:443... connected.\n",
      "HTTP request sent, awaiting response... 200 \n",
      "Length: 19765655 (19M) [application/octet]\n",
      "Saving to: ‘f?p=VOTERFTP:DOWNLOAD::FILE:NO:2:P2_PRODUCT_NUMBER:39’\n",
      "\n",
      "f?p=VOTERFTP:DOWNLO 100%[===================>]  18.85M  4.19MB/s    in 4.8s    \n",
      "\n",
      "2020-11-15 22:56:02 (3.91 MB/s) - ‘f?p=VOTERFTP:DOWNLOAD::FILE:NO:2:P2_PRODUCT_NUMBER:39’ saved [19765655/19765655]\n",
      "\n",
      "--2020-11-15 22:56:02--  https://www6.ohiosos.gov/ords/f?p=VOTERFTP:DOWNLOAD::FILE:NO:2:P2_PRODUCT_NUMBER:40\n",
      "Resolving www6.ohiosos.gov (www6.ohiosos.gov)... 104.16.134.50, 104.16.135.50\n",
      "Connecting to www6.ohiosos.gov (www6.ohiosos.gov)|104.16.134.50|:443... connected.\n",
      "HTTP request sent, awaiting response... 200 \n",
      "Length: 11273827 (11M) [application/octet]\n",
      "Saving to: ‘f?p=VOTERFTP:DOWNLOAD::FILE:NO:2:P2_PRODUCT_NUMBER:40’\n",
      "\n",
      "f?p=VOTERFTP:DOWNLO 100%[===================>]  10.75M  3.84MB/s    in 2.8s    \n",
      "\n",
      "2020-11-15 22:56:05 (3.84 MB/s) - ‘f?p=VOTERFTP:DOWNLOAD::FILE:NO:2:P2_PRODUCT_NUMBER:40’ saved [11273827/11273827]\n",
      "\n",
      "--2020-11-15 22:56:05--  https://www6.ohiosos.gov/ords/f?p=VOTERFTP:DOWNLOAD::FILE:NO:2:P2_PRODUCT_NUMBER:41\n",
      "Resolving www6.ohiosos.gov (www6.ohiosos.gov)... 104.16.134.50, 104.16.135.50\n",
      "Connecting to www6.ohiosos.gov (www6.ohiosos.gov)|104.16.134.50|:443... connected.\n",
      "HTTP request sent, awaiting response... 200 \n",
      "Length: 27748860 (26M) [application/octet]\n",
      "Saving to: ‘f?p=VOTERFTP:DOWNLOAD::FILE:NO:2:P2_PRODUCT_NUMBER:41’\n",
      "\n",
      "f?p=VOTERFTP:DOWNLO 100%[===================>]  26.46M  3.94MB/s    in 6.7s    \n",
      "\n",
      "2020-11-15 22:56:13 (3.93 MB/s) - ‘f?p=VOTERFTP:DOWNLOAD::FILE:NO:2:P2_PRODUCT_NUMBER:41’ saved [27748860/27748860]\n",
      "\n",
      "--2020-11-15 22:56:13--  https://www6.ohiosos.gov/ords/f?p=VOTERFTP:DOWNLOAD::FILE:NO:2:P2_PRODUCT_NUMBER:42\n",
      "Resolving www6.ohiosos.gov (www6.ohiosos.gov)... 104.16.134.50, 104.16.135.50\n",
      "Connecting to www6.ohiosos.gov (www6.ohiosos.gov)|104.16.134.50|:443... connected.\n",
      "HTTP request sent, awaiting response... 200 \n",
      "Length: 23089094 (22M) [application/octet]\n",
      "Saving to: ‘f?p=VOTERFTP:DOWNLOAD::FILE:NO:2:P2_PRODUCT_NUMBER:42’\n",
      "\n",
      "f?p=VOTERFTP:DOWNLO 100%[===================>]  22.02M  4.19MB/s    in 5.4s    \n",
      "\n",
      "2020-11-15 22:56:19 (4.07 MB/s) - ‘f?p=VOTERFTP:DOWNLOAD::FILE:NO:2:P2_PRODUCT_NUMBER:42’ saved [23089094/23089094]\n",
      "\n",
      "--2020-11-15 22:56:19--  https://www6.ohiosos.gov/ords/f?p=VOTERFTP:DOWNLOAD::FILE:NO:2:P2_PRODUCT_NUMBER:43\n",
      "Resolving www6.ohiosos.gov (www6.ohiosos.gov)... 104.16.134.50, 104.16.135.50\n",
      "Connecting to www6.ohiosos.gov (www6.ohiosos.gov)|104.16.134.50|:443... connected.\n",
      "HTTP request sent, awaiting response... 200 \n",
      "Length: 89161958 (85M) [application/octet]\n",
      "Saving to: ‘f?p=VOTERFTP:DOWNLOAD::FILE:NO:2:P2_PRODUCT_NUMBER:43’\n",
      "\n",
      "f?p=VOTERFTP:DOWNLO 100%[===================>]  85.03M  3.89MB/s    in 21s     \n",
      "\n",
      "2020-11-15 22:56:41 (3.98 MB/s) - ‘f?p=VOTERFTP:DOWNLOAD::FILE:NO:2:P2_PRODUCT_NUMBER:43’ saved [89161958/89161958]\n",
      "\n",
      "--2020-11-15 22:56:41--  https://www6.ohiosos.gov/ords/f?p=VOTERFTP:DOWNLOAD::FILE:NO:2:P2_PRODUCT_NUMBER:44\n",
      "Resolving www6.ohiosos.gov (www6.ohiosos.gov)... 104.16.134.50, 104.16.135.50\n",
      "Connecting to www6.ohiosos.gov (www6.ohiosos.gov)|104.16.134.50|:443... connected.\n",
      "HTTP request sent, awaiting response... 200 \n",
      "Length: 24616337 (23M) [application/octet]\n",
      "Saving to: ‘f?p=VOTERFTP:DOWNLOAD::FILE:NO:2:P2_PRODUCT_NUMBER:44’\n",
      "\n",
      "f?p=VOTERFTP:DOWNLO 100%[===================>]  23.48M  4.20MB/s    in 5.8s    \n",
      "\n",
      "2020-11-15 22:56:47 (4.07 MB/s) - ‘f?p=VOTERFTP:DOWNLOAD::FILE:NO:2:P2_PRODUCT_NUMBER:44’ saved [24616337/24616337]\n",
      "\n",
      "--2020-11-15 22:56:47--  https://www6.ohiosos.gov/ords/f?p=VOTERFTP:DOWNLOAD::FILE:NO:2:P2_PRODUCT_NUMBER:45\n",
      "Resolving www6.ohiosos.gov (www6.ohiosos.gov)... 104.16.134.50, 104.16.135.50\n",
      "Connecting to www6.ohiosos.gov (www6.ohiosos.gov)|104.16.134.50|:443... connected.\n",
      "HTTP request sent, awaiting response... 200 \n",
      "Length: 69446543 (66M) [application/octet]\n",
      "Saving to: ‘f?p=VOTERFTP:DOWNLOAD::FILE:NO:2:P2_PRODUCT_NUMBER:45’\n",
      "\n",
      "f?p=VOTERFTP:DOWNLO 100%[===================>]  66.23M  3.89MB/s    in 17s     \n",
      "\n",
      "2020-11-15 22:57:05 (3.93 MB/s) - ‘f?p=VOTERFTP:DOWNLOAD::FILE:NO:2:P2_PRODUCT_NUMBER:45’ saved [69446543/69446543]\n",
      "\n",
      "--2020-11-15 22:57:05--  https://www6.ohiosos.gov/ords/f?p=VOTERFTP:DOWNLOAD::FILE:NO:2:P2_PRODUCT_NUMBER:46\n",
      "Resolving www6.ohiosos.gov (www6.ohiosos.gov)... 104.16.134.50, 104.16.135.50\n",
      "Connecting to www6.ohiosos.gov (www6.ohiosos.gov)|104.16.134.50|:443... connected.\n",
      "HTTP request sent, awaiting response... 200 \n",
      "Length: 18220248 (17M) [application/octet]\n",
      "Saving to: ‘f?p=VOTERFTP:DOWNLOAD::FILE:NO:2:P2_PRODUCT_NUMBER:46’\n",
      "\n",
      "f?p=VOTERFTP:DOWNLO 100%[===================>]  17.38M  4.21MB/s    in 4.3s    \n",
      "\n",
      "2020-11-15 22:57:10 (4.05 MB/s) - ‘f?p=VOTERFTP:DOWNLOAD::FILE:NO:2:P2_PRODUCT_NUMBER:46’ saved [18220248/18220248]\n",
      "\n",
      "--2020-11-15 22:57:10--  https://www6.ohiosos.gov/ords/f?p=VOTERFTP:DOWNLOAD::FILE:NO:2:P2_PRODUCT_NUMBER:47\n",
      "Resolving www6.ohiosos.gov (www6.ohiosos.gov)... 104.16.134.50, 104.16.135.50\n",
      "Connecting to www6.ohiosos.gov (www6.ohiosos.gov)|104.16.134.50|:443... connected.\n",
      "HTTP request sent, awaiting response... 200 \n",
      "Length: 120735872 (115M) [application/octet]\n",
      "Saving to: ‘f?p=VOTERFTP:DOWNLOAD::FILE:NO:2:P2_PRODUCT_NUMBER:47’\n",
      "\n",
      "f?p=VOTERFTP:DOWNLO 100%[===================>] 115.14M  3.22MB/s    in 35s     \n",
      "\n",
      "2020-11-15 22:57:46 (3.25 MB/s) - ‘f?p=VOTERFTP:DOWNLOAD::FILE:NO:2:P2_PRODUCT_NUMBER:47’ saved [120735872/120735872]\n",
      "\n",
      "--2020-11-15 22:57:46--  https://www6.ohiosos.gov/ords/f?p=VOTERFTP:DOWNLOAD::FILE:NO:2:P2_PRODUCT_NUMBER:48\n",
      "Resolving www6.ohiosos.gov (www6.ohiosos.gov)... 104.16.134.50, 104.16.135.50\n",
      "Connecting to www6.ohiosos.gov (www6.ohiosos.gov)|104.16.134.50|:443... connected.\n",
      "HTTP request sent, awaiting response... 200 \n",
      "Length: 156472816 (149M) [application/octet]\n",
      "Saving to: ‘f?p=VOTERFTP:DOWNLOAD::FILE:NO:2:P2_PRODUCT_NUMBER:48’\n",
      "\n",
      "f?p=VOTERFTP:DOWNLO 100%[===================>] 149.22M  3.97MB/s    in 43s     \n",
      "\n",
      "2020-11-15 22:58:31 (3.45 MB/s) - ‘f?p=VOTERFTP:DOWNLOAD::FILE:NO:2:P2_PRODUCT_NUMBER:48’ saved [156472816/156472816]\n",
      "\n",
      "--2020-11-15 22:58:31--  https://www6.ohiosos.gov/ords/f?p=VOTERFTP:DOWNLOAD::FILE:NO:2:P2_PRODUCT_NUMBER:49\n",
      "Resolving www6.ohiosos.gov (www6.ohiosos.gov)... 104.16.134.50, 104.16.135.50\n",
      "Connecting to www6.ohiosos.gov (www6.ohiosos.gov)|104.16.134.50|:443... connected.\n",
      "HTTP request sent, awaiting response... 200 \n",
      "Length: 13587869 (13M) [application/octet]\n",
      "Saving to: ‘f?p=VOTERFTP:DOWNLOAD::FILE:NO:2:P2_PRODUCT_NUMBER:49’\n",
      "\n",
      "f?p=VOTERFTP:DOWNLO 100%[===================>]  12.96M  4.22MB/s    in 3.1s    \n",
      "\n",
      "2020-11-15 22:58:34 (4.22 MB/s) - ‘f?p=VOTERFTP:DOWNLOAD::FILE:NO:2:P2_PRODUCT_NUMBER:49’ saved [13587869/13587869]\n",
      "\n",
      "--2020-11-15 22:58:34--  https://www6.ohiosos.gov/ords/f?p=VOTERFTP:DOWNLOAD::FILE:NO:2:P2_PRODUCT_NUMBER:50\n",
      "Resolving www6.ohiosos.gov (www6.ohiosos.gov)... 104.16.134.50, 104.16.135.50\n",
      "Connecting to www6.ohiosos.gov (www6.ohiosos.gov)|104.16.134.50|:443... connected.\n",
      "HTTP request sent, awaiting response... 200 \n",
      "Length: 86327807 (82M) [application/octet]\n",
      "Saving to: ‘f?p=VOTERFTP:DOWNLOAD::FILE:NO:2:P2_PRODUCT_NUMBER:50’\n",
      "\n",
      "f?p=VOTERFTP:DOWNLO 100%[===================>]  82.33M  3.95MB/s    in 22s     \n",
      "\n",
      "2020-11-15 22:58:56 (3.83 MB/s) - ‘f?p=VOTERFTP:DOWNLOAD::FILE:NO:2:P2_PRODUCT_NUMBER:50’ saved [86327807/86327807]\n",
      "\n",
      "--2020-11-15 22:58:56--  https://www6.ohiosos.gov/ords/f?p=VOTERFTP:DOWNLOAD::FILE:NO:2:P2_PRODUCT_NUMBER:51\n",
      "Resolving www6.ohiosos.gov (www6.ohiosos.gov)... 104.16.134.50, 104.16.135.50\n",
      "Connecting to www6.ohiosos.gov (www6.ohiosos.gov)|104.16.134.50|:443... connected.\n",
      "HTTP request sent, awaiting response... 200 \n",
      "Length: 22074198 (21M) [application/octet]\n",
      "Saving to: ‘f?p=VOTERFTP:DOWNLOAD::FILE:NO:2:P2_PRODUCT_NUMBER:51’\n",
      "\n",
      "f?p=VOTERFTP:DOWNLO 100%[===================>]  21.05M  4.19MB/s    in 5.1s    \n",
      "\n",
      "2020-11-15 22:59:02 (4.09 MB/s) - ‘f?p=VOTERFTP:DOWNLOAD::FILE:NO:2:P2_PRODUCT_NUMBER:51’ saved [22074198/22074198]\n",
      "\n",
      "--2020-11-15 22:59:02--  https://www6.ohiosos.gov/ords/f?p=VOTERFTP:DOWNLOAD::FILE:NO:2:P2_PRODUCT_NUMBER:52\n",
      "Resolving www6.ohiosos.gov (www6.ohiosos.gov)... 104.16.134.50, 104.16.135.50\n",
      "Connecting to www6.ohiosos.gov (www6.ohiosos.gov)|104.16.134.50|:443... connected.\n",
      "HTTP request sent, awaiting response... 200 \n",
      "Length: 70504739 (67M) [application/octet]\n",
      "Saving to: ‘f?p=VOTERFTP:DOWNLOAD::FILE:NO:2:P2_PRODUCT_NUMBER:52’\n",
      "\n",
      "f?p=VOTERFTP:DOWNLO 100%[===================>]  67.24M  4.17MB/s    in 16s     \n",
      "\n",
      "2020-11-15 22:59:19 (4.19 MB/s) - ‘f?p=VOTERFTP:DOWNLOAD::FILE:NO:2:P2_PRODUCT_NUMBER:52’ saved [70504739/70504739]\n",
      "\n",
      "--2020-11-15 22:59:19--  https://www6.ohiosos.gov/ords/f?p=VOTERFTP:DOWNLOAD::FILE:NO:2:P2_PRODUCT_NUMBER:53\n",
      "Resolving www6.ohiosos.gov (www6.ohiosos.gov)... 104.16.134.50, 104.16.135.50\n",
      "Connecting to www6.ohiosos.gov (www6.ohiosos.gov)|104.16.134.50|:443... connected.\n",
      "HTTP request sent, awaiting response... 200 \n",
      "Length: 8158292 (7.8M) [application/octet]\n",
      "Saving to: ‘f?p=VOTERFTP:DOWNLOAD::FILE:NO:2:P2_PRODUCT_NUMBER:53’\n",
      "\n",
      "f?p=VOTERFTP:DOWNLO 100%[===================>]   7.78M  4.19MB/s    in 1.9s    \n",
      "\n",
      "2020-11-15 22:59:21 (4.19 MB/s) - ‘f?p=VOTERFTP:DOWNLOAD::FILE:NO:2:P2_PRODUCT_NUMBER:53’ saved [8158292/8158292]\n",
      "\n",
      "--2020-11-15 22:59:21--  https://www6.ohiosos.gov/ords/f?p=VOTERFTP:DOWNLOAD::FILE:NO:2:P2_PRODUCT_NUMBER:54\n",
      "Resolving www6.ohiosos.gov (www6.ohiosos.gov)... 104.16.134.50, 104.16.135.50\n",
      "Connecting to www6.ohiosos.gov (www6.ohiosos.gov)|104.16.134.50|:443... connected.\n",
      "HTTP request sent, awaiting response... 200 \n",
      "Length: 15845276 (15M) [application/octet]\n",
      "Saving to: ‘f?p=VOTERFTP:DOWNLOAD::FILE:NO:2:P2_PRODUCT_NUMBER:54’\n",
      "\n",
      "f?p=VOTERFTP:DOWNLO 100%[===================>]  15.11M  4.16MB/s    in 3.6s    \n",
      "\n",
      "2020-11-15 22:59:25 (4.16 MB/s) - ‘f?p=VOTERFTP:DOWNLOAD::FILE:NO:2:P2_PRODUCT_NUMBER:54’ saved [15845276/15845276]\n",
      "\n",
      "--2020-11-15 22:59:25--  https://www6.ohiosos.gov/ords/f?p=VOTERFTP:DOWNLOAD::FILE:NO:2:P2_PRODUCT_NUMBER:55\n",
      "Resolving www6.ohiosos.gov (www6.ohiosos.gov)... 104.16.134.50, 104.16.135.50\n",
      "Connecting to www6.ohiosos.gov (www6.ohiosos.gov)|104.16.134.50|:443... connected.\n",
      "HTTP request sent, awaiting response... 200 \n",
      "Length: 39138786 (37M) [application/octet]\n",
      "Saving to: ‘f?p=VOTERFTP:DOWNLOAD::FILE:NO:2:P2_PRODUCT_NUMBER:55’\n",
      "\n",
      "f?p=VOTERFTP:DOWNLO 100%[===================>]  37.33M  3.79MB/s    in 9.8s    \n",
      "\n",
      "2020-11-15 22:59:35 (3.82 MB/s) - ‘f?p=VOTERFTP:DOWNLOAD::FILE:NO:2:P2_PRODUCT_NUMBER:55’ saved [39138786/39138786]\n",
      "\n",
      "--2020-11-15 22:59:35--  https://www6.ohiosos.gov/ords/f?p=VOTERFTP:DOWNLOAD::FILE:NO:2:P2_PRODUCT_NUMBER:56\n",
      "Resolving www6.ohiosos.gov (www6.ohiosos.gov)... 104.16.134.50, 104.16.135.50\n",
      "Connecting to www6.ohiosos.gov (www6.ohiosos.gov)|104.16.134.50|:443... connected.\n",
      "HTTP request sent, awaiting response... 200 \n",
      "Length: 5242497 (5.0M) [application/octet]\n",
      "Saving to: ‘f?p=VOTERFTP:DOWNLOAD::FILE:NO:2:P2_PRODUCT_NUMBER:56’\n",
      "\n",
      "f?p=VOTERFTP:DOWNLO 100%[===================>]   5.00M  4.13MB/s    in 1.2s    \n",
      "\n",
      "2020-11-15 22:59:37 (4.13 MB/s) - ‘f?p=VOTERFTP:DOWNLOAD::FILE:NO:2:P2_PRODUCT_NUMBER:56’ saved [5242497/5242497]\n",
      "\n",
      "--2020-11-15 22:59:37--  https://www6.ohiosos.gov/ords/f?p=VOTERFTP:DOWNLOAD::FILE:NO:2:P2_PRODUCT_NUMBER:57\n",
      "Resolving www6.ohiosos.gov (www6.ohiosos.gov)... 104.16.134.50, 104.16.135.50\n",
      "Connecting to www6.ohiosos.gov (www6.ohiosos.gov)|104.16.134.50|:443... connected.\n",
      "HTTP request sent, awaiting response... 200 \n",
      "Length: 199392402 (190M) [application/octet]\n",
      "Saving to: ‘f?p=VOTERFTP:DOWNLOAD::FILE:NO:2:P2_PRODUCT_NUMBER:57’\n",
      "\n",
      "f?p=VOTERFTP:DOWNLO 100%[===================>] 190.16M  4.24MB/s    in 53s     \n",
      "\n",
      "2020-11-15 23:00:31 (3.61 MB/s) - ‘f?p=VOTERFTP:DOWNLOAD::FILE:NO:2:P2_PRODUCT_NUMBER:57’ saved [199392402/199392402]\n",
      "\n",
      "--2020-11-15 23:00:31--  https://www6.ohiosos.gov/ords/f?p=VOTERFTP:DOWNLOAD::FILE:NO:2:P2_PRODUCT_NUMBER:58\n",
      "Resolving www6.ohiosos.gov (www6.ohiosos.gov)... 104.16.134.50, 104.16.135.50\n",
      "Connecting to www6.ohiosos.gov (www6.ohiosos.gov)|104.16.134.50|:443... connected.\n",
      "HTTP request sent, awaiting response... 200 \n",
      "Length: 4861111 (4.6M) [application/octet]\n",
      "Saving to: ‘f?p=VOTERFTP:DOWNLOAD::FILE:NO:2:P2_PRODUCT_NUMBER:58’\n",
      "\n",
      "f?p=VOTERFTP:DOWNLO 100%[===================>]   4.64M  3.20MB/s    in 1.4s    \n",
      "\n",
      "2020-11-15 23:00:33 (3.20 MB/s) - ‘f?p=VOTERFTP:DOWNLOAD::FILE:NO:2:P2_PRODUCT_NUMBER:58’ saved [4861111/4861111]\n",
      "\n",
      "--2020-11-15 23:00:33--  https://www6.ohiosos.gov/ords/f?p=VOTERFTP:DOWNLOAD::FILE:NO:2:P2_PRODUCT_NUMBER:59\n",
      "Resolving www6.ohiosos.gov (www6.ohiosos.gov)... 104.16.134.50, 104.16.135.50\n",
      "Connecting to www6.ohiosos.gov (www6.ohiosos.gov)|104.16.134.50|:443... connected.\n",
      "HTTP request sent, awaiting response... 200 \n",
      "Length: 12254633 (12M) [application/octet]\n",
      "Saving to: ‘f?p=VOTERFTP:DOWNLOAD::FILE:NO:2:P2_PRODUCT_NUMBER:59’\n",
      "\n",
      "f?p=VOTERFTP:DOWNLO 100%[===================>]  11.69M  3.06MB/s    in 3.8s    \n",
      "\n",
      "2020-11-15 23:00:37 (3.06 MB/s) - ‘f?p=VOTERFTP:DOWNLOAD::FILE:NO:2:P2_PRODUCT_NUMBER:59’ saved [12254633/12254633]\n",
      "\n",
      "--2020-11-15 23:00:37--  https://www6.ohiosos.gov/ords/f?p=VOTERFTP:DOWNLOAD::FILE:NO:2:P2_PRODUCT_NUMBER:60\n",
      "Resolving www6.ohiosos.gov (www6.ohiosos.gov)... 104.16.134.50, 104.16.135.50\n",
      "Connecting to www6.ohiosos.gov (www6.ohiosos.gov)|104.16.134.50|:443... connected.\n",
      "HTTP request sent, awaiting response... 200 \n",
      "Length: 29374469 (28M) [application/octet]\n",
      "Saving to: ‘f?p=VOTERFTP:DOWNLOAD::FILE:NO:2:P2_PRODUCT_NUMBER:60’\n",
      "\n",
      "f?p=VOTERFTP:DOWNLO 100%[===================>]  28.01M  4.15MB/s    in 6.6s    \n",
      "\n",
      "2020-11-15 23:00:44 (4.21 MB/s) - ‘f?p=VOTERFTP:DOWNLOAD::FILE:NO:2:P2_PRODUCT_NUMBER:60’ saved [29374469/29374469]\n",
      "\n",
      "--2020-11-15 23:00:44--  https://www6.ohiosos.gov/ords/f?p=VOTERFTP:DOWNLOAD::FILE:NO:2:P2_PRODUCT_NUMBER:61\n",
      "Resolving www6.ohiosos.gov (www6.ohiosos.gov)... 104.16.134.50, 104.16.135.50\n",
      "Connecting to www6.ohiosos.gov (www6.ohiosos.gov)|104.16.134.50|:443... connected.\n",
      "HTTP request sent, awaiting response... 200 \n",
      "Length: 4503886 (4.3M) [application/octet]\n",
      "Saving to: ‘f?p=VOTERFTP:DOWNLOAD::FILE:NO:2:P2_PRODUCT_NUMBER:61’\n",
      "\n",
      "f?p=VOTERFTP:DOWNLO 100%[===================>]   4.29M  4.14MB/s    in 1.0s    \n",
      "\n",
      "2020-11-15 23:00:46 (4.14 MB/s) - ‘f?p=VOTERFTP:DOWNLOAD::FILE:NO:2:P2_PRODUCT_NUMBER:61’ saved [4503886/4503886]\n",
      "\n",
      "--2020-11-15 23:00:46--  https://www6.ohiosos.gov/ords/f?p=VOTERFTP:DOWNLOAD::FILE:NO:2:P2_PRODUCT_NUMBER:62\n",
      "Resolving www6.ohiosos.gov (www6.ohiosos.gov)... 104.16.134.50, 104.16.135.50\n",
      "Connecting to www6.ohiosos.gov (www6.ohiosos.gov)|104.16.134.50|:443... connected.\n",
      "HTTP request sent, awaiting response... 200 \n",
      "Length: 16578650 (16M) [application/octet]\n",
      "Saving to: ‘f?p=VOTERFTP:DOWNLOAD::FILE:NO:2:P2_PRODUCT_NUMBER:62’\n",
      "\n",
      "f?p=VOTERFTP:DOWNLO 100%[===================>]  15.81M  4.17MB/s    in 3.8s    \n",
      "\n",
      "2020-11-15 23:00:50 (4.19 MB/s) - ‘f?p=VOTERFTP:DOWNLOAD::FILE:NO:2:P2_PRODUCT_NUMBER:62’ saved [16578650/16578650]\n",
      "\n",
      "--2020-11-15 23:00:50--  https://www6.ohiosos.gov/ords/f?p=VOTERFTP:DOWNLOAD::FILE:NO:2:P2_PRODUCT_NUMBER:63\n",
      "Resolving www6.ohiosos.gov (www6.ohiosos.gov)... 104.16.134.50, 104.16.135.50\n",
      "Connecting to www6.ohiosos.gov (www6.ohiosos.gov)|104.16.134.50|:443... connected.\n",
      "HTTP request sent, awaiting response... 200 \n",
      "Length: 7033341 (6.7M) [application/octet]\n",
      "Saving to: ‘f?p=VOTERFTP:DOWNLOAD::FILE:NO:2:P2_PRODUCT_NUMBER:63’\n",
      "\n",
      "f?p=VOTERFTP:DOWNLO 100%[===================>]   6.71M  4.16MB/s    in 1.6s    \n",
      "\n",
      "2020-11-15 23:00:52 (4.16 MB/s) - ‘f?p=VOTERFTP:DOWNLOAD::FILE:NO:2:P2_PRODUCT_NUMBER:63’ saved [7033341/7033341]\n",
      "\n",
      "--2020-11-15 23:00:52--  https://www6.ohiosos.gov/ords/f?p=VOTERFTP:DOWNLOAD::FILE:NO:2:P2_PRODUCT_NUMBER:64\n",
      "Resolving www6.ohiosos.gov (www6.ohiosos.gov)... 104.16.134.50, 104.16.135.50\n",
      "Connecting to www6.ohiosos.gov (www6.ohiosos.gov)|104.16.134.50|:443... connected.\n",
      "HTTP request sent, awaiting response... 200 \n",
      "Length: 12577637 (12M) [application/octet]\n",
      "Saving to: ‘f?p=VOTERFTP:DOWNLOAD::FILE:NO:2:P2_PRODUCT_NUMBER:64’\n",
      "\n",
      "f?p=VOTERFTP:DOWNLO 100%[===================>]  11.99M  3.92MB/s    in 3.1s    \n",
      "\n",
      "2020-11-15 23:00:56 (3.92 MB/s) - ‘f?p=VOTERFTP:DOWNLOAD::FILE:NO:2:P2_PRODUCT_NUMBER:64’ saved [12577637/12577637]\n",
      "\n",
      "--2020-11-15 23:00:56--  https://www6.ohiosos.gov/ords/f?p=VOTERFTP:DOWNLOAD::FILE:NO:2:P2_PRODUCT_NUMBER:65\n",
      "Resolving www6.ohiosos.gov (www6.ohiosos.gov)... 104.16.134.50, 104.16.135.50\n",
      "Connecting to www6.ohiosos.gov (www6.ohiosos.gov)|104.16.134.50|:443... connected.\n",
      "HTTP request sent, awaiting response... 200 \n",
      "Length: 20250475 (19M) [application/octet]\n",
      "Saving to: ‘f?p=VOTERFTP:DOWNLOAD::FILE:NO:2:P2_PRODUCT_NUMBER:65’\n",
      "\n",
      "f?p=VOTERFTP:DOWNLO 100%[===================>]  19.31M  3.54MB/s    in 5.3s    \n",
      "\n",
      "2020-11-15 23:01:01 (3.64 MB/s) - ‘f?p=VOTERFTP:DOWNLOAD::FILE:NO:2:P2_PRODUCT_NUMBER:65’ saved [20250475/20250475]\n",
      "\n",
      "--2020-11-15 23:01:01--  https://www6.ohiosos.gov/ords/f?p=VOTERFTP:DOWNLOAD::FILE:NO:2:P2_PRODUCT_NUMBER:66\n",
      "Resolving www6.ohiosos.gov (www6.ohiosos.gov)... 104.16.134.50, 104.16.135.50\n",
      "Connecting to www6.ohiosos.gov (www6.ohiosos.gov)|104.16.134.50|:443... connected.\n",
      "HTTP request sent, awaiting response... 200 \n",
      "Length: 9143053 (8.7M) [application/octet]\n",
      "Saving to: ‘f?p=VOTERFTP:DOWNLOAD::FILE:NO:2:P2_PRODUCT_NUMBER:66’\n",
      "\n",
      "f?p=VOTERFTP:DOWNLO 100%[===================>]   8.72M  3.86MB/s    in 2.3s    \n",
      "\n",
      "2020-11-15 23:01:05 (3.86 MB/s) - ‘f?p=VOTERFTP:DOWNLOAD::FILE:NO:2:P2_PRODUCT_NUMBER:66’ saved [9143053/9143053]\n",
      "\n",
      "--2020-11-15 23:01:05--  https://www6.ohiosos.gov/ords/f?p=VOTERFTP:DOWNLOAD::FILE:NO:2:P2_PRODUCT_NUMBER:67\n",
      "Resolving www6.ohiosos.gov (www6.ohiosos.gov)... 104.16.134.50, 104.16.135.50\n",
      "Connecting to www6.ohiosos.gov (www6.ohiosos.gov)|104.16.134.50|:443... connected.\n",
      "HTTP request sent, awaiting response... 200 \n",
      "Length: 58252629 (56M) [application/octet]\n",
      "Saving to: ‘f?p=VOTERFTP:DOWNLOAD::FILE:NO:2:P2_PRODUCT_NUMBER:67’\n",
      "\n",
      "f?p=VOTERFTP:DOWNLO 100%[===================>]  55.55M  3.10MB/s    in 17s     \n",
      "\n",
      "2020-11-15 23:01:23 (3.23 MB/s) - ‘f?p=VOTERFTP:DOWNLOAD::FILE:NO:2:P2_PRODUCT_NUMBER:67’ saved [58252629/58252629]\n",
      "\n",
      "--2020-11-15 23:01:23--  https://www6.ohiosos.gov/ords/f?p=VOTERFTP:DOWNLOAD::FILE:NO:2:P2_PRODUCT_NUMBER:68\n",
      "Resolving www6.ohiosos.gov (www6.ohiosos.gov)... 104.16.134.50, 104.16.135.50\n",
      "Connecting to www6.ohiosos.gov (www6.ohiosos.gov)|104.16.134.50|:443... connected.\n",
      "HTTP request sent, awaiting response... 200 \n",
      "Length: 15998065 (15M) [application/octet]\n",
      "Saving to: ‘f?p=VOTERFTP:DOWNLOAD::FILE:NO:2:P2_PRODUCT_NUMBER:68’\n",
      "\n",
      "f?p=VOTERFTP:DOWNLO 100%[===================>]  15.26M  4.11MB/s    in 3.7s    \n",
      "\n",
      "2020-11-15 23:01:27 (4.07 MB/s) - ‘f?p=VOTERFTP:DOWNLOAD::FILE:NO:2:P2_PRODUCT_NUMBER:68’ saved [15998065/15998065]\n",
      "\n",
      "--2020-11-15 23:01:27--  https://www6.ohiosos.gov/ords/f?p=VOTERFTP:DOWNLOAD::FILE:NO:2:P2_PRODUCT_NUMBER:69\n",
      "Resolving www6.ohiosos.gov (www6.ohiosos.gov)... 104.16.134.50, 104.16.135.50\n",
      "Connecting to www6.ohiosos.gov (www6.ohiosos.gov)|104.16.134.50|:443... connected.\n",
      "HTTP request sent, awaiting response... 200 \n",
      "Length: 12993452 (12M) [application/octet]\n",
      "Saving to: ‘f?p=VOTERFTP:DOWNLOAD::FILE:NO:2:P2_PRODUCT_NUMBER:69’\n",
      "\n",
      "f?p=VOTERFTP:DOWNLO 100%[===================>]  12.39M  3.49MB/s    in 3.5s    \n",
      "\n",
      "2020-11-15 23:01:31 (3.49 MB/s) - ‘f?p=VOTERFTP:DOWNLOAD::FILE:NO:2:P2_PRODUCT_NUMBER:69’ saved [12993452/12993452]\n",
      "\n",
      "--2020-11-15 23:01:31--  https://www6.ohiosos.gov/ords/f?p=VOTERFTP:DOWNLOAD::FILE:NO:2:P2_PRODUCT_NUMBER:70\n",
      "Resolving www6.ohiosos.gov (www6.ohiosos.gov)... 104.16.134.50, 104.16.135.50\n",
      "Connecting to www6.ohiosos.gov (www6.ohiosos.gov)|104.16.134.50|:443... connected.\n",
      "HTTP request sent, awaiting response... 200 \n",
      "Length: 43997518 (42M) [application/octet]\n",
      "Saving to: ‘f?p=VOTERFTP:DOWNLOAD::FILE:NO:2:P2_PRODUCT_NUMBER:70’\n",
      "\n",
      "f?p=VOTERFTP:DOWNLO 100%[===================>]  41.96M  2.32MB/s    in 13s     \n",
      "\n",
      "2020-11-15 23:01:44 (3.29 MB/s) - ‘f?p=VOTERFTP:DOWNLOAD::FILE:NO:2:P2_PRODUCT_NUMBER:70’ saved [43997518/43997518]\n",
      "\n",
      "--2020-11-15 23:01:44--  https://www6.ohiosos.gov/ords/f?p=VOTERFTP:DOWNLOAD::FILE:NO:2:P2_PRODUCT_NUMBER:71\n",
      "Resolving www6.ohiosos.gov (www6.ohiosos.gov)... 104.16.134.50, 104.16.135.50\n",
      "Connecting to www6.ohiosos.gov (www6.ohiosos.gov)|104.16.134.50|:443... connected.\n",
      "HTTP request sent, awaiting response... 200 \n",
      "Length: 25459713 (24M) [application/octet]\n",
      "Saving to: ‘f?p=VOTERFTP:DOWNLOAD::FILE:NO:2:P2_PRODUCT_NUMBER:71’\n",
      "\n",
      "f?p=VOTERFTP:DOWNLO 100%[===================>]  24.28M  4.17MB/s    in 5.9s    \n",
      "\n",
      "2020-11-15 23:01:51 (4.12 MB/s) - ‘f?p=VOTERFTP:DOWNLOAD::FILE:NO:2:P2_PRODUCT_NUMBER:71’ saved [25459713/25459713]\n",
      "\n",
      "--2020-11-15 23:01:51--  https://www6.ohiosos.gov/ords/f?p=VOTERFTP:DOWNLOAD::FILE:NO:2:P2_PRODUCT_NUMBER:72\n",
      "Resolving www6.ohiosos.gov (www6.ohiosos.gov)... 104.16.134.50, 104.16.135.50\n",
      "Connecting to www6.ohiosos.gov (www6.ohiosos.gov)|104.16.134.50|:443... connected.\n",
      "HTTP request sent, awaiting response... 200 \n",
      "Length: 20532824 (20M) [application/octet]\n",
      "Saving to: ‘f?p=VOTERFTP:DOWNLOAD::FILE:NO:2:P2_PRODUCT_NUMBER:72’\n",
      "\n",
      "f?p=VOTERFTP:DOWNLO 100%[===================>]  19.58M  4.23MB/s    in 4.9s    \n",
      "\n",
      "2020-11-15 23:01:56 (3.96 MB/s) - ‘f?p=VOTERFTP:DOWNLOAD::FILE:NO:2:P2_PRODUCT_NUMBER:72’ saved [20532824/20532824]\n",
      "\n",
      "--2020-11-15 23:01:56--  https://www6.ohiosos.gov/ords/f?p=VOTERFTP:DOWNLOAD::FILE:NO:2:P2_PRODUCT_NUMBER:73\n",
      "Resolving www6.ohiosos.gov (www6.ohiosos.gov)... 104.16.134.50, 104.16.135.50\n",
      "Connecting to www6.ohiosos.gov (www6.ohiosos.gov)|104.16.134.50|:443... connected.\n",
      "HTTP request sent, awaiting response... 200 \n",
      "Length: 25981101 (25M) [application/octet]\n",
      "Saving to: ‘f?p=VOTERFTP:DOWNLOAD::FILE:NO:2:P2_PRODUCT_NUMBER:73’\n",
      "\n",
      "f?p=VOTERFTP:DOWNLO 100%[===================>]  24.78M  3.48MB/s    in 6.6s    \n",
      "\n",
      "2020-11-15 23:02:03 (3.73 MB/s) - ‘f?p=VOTERFTP:DOWNLOAD::FILE:NO:2:P2_PRODUCT_NUMBER:73’ saved [25981101/25981101]\n",
      "\n",
      "--2020-11-15 23:02:03--  https://www6.ohiosos.gov/ords/f?p=VOTERFTP:DOWNLOAD::FILE:NO:2:P2_PRODUCT_NUMBER:74\n",
      "Resolving www6.ohiosos.gov (www6.ohiosos.gov)... 104.16.134.50, 104.16.135.50\n",
      "Connecting to www6.ohiosos.gov (www6.ohiosos.gov)|104.16.134.50|:443... connected.\n",
      "HTTP request sent, awaiting response... 200 \n",
      "Length: 17778907 (17M) [application/octet]\n",
      "Saving to: ‘f?p=VOTERFTP:DOWNLOAD::FILE:NO:2:P2_PRODUCT_NUMBER:74’\n",
      "\n",
      "f?p=VOTERFTP:DOWNLO 100%[===================>]  16.96M  4.19MB/s    in 4.1s    \n",
      "\n",
      "2020-11-15 23:02:08 (4.17 MB/s) - ‘f?p=VOTERFTP:DOWNLOAD::FILE:NO:2:P2_PRODUCT_NUMBER:74’ saved [17778907/17778907]\n",
      "\n",
      "--2020-11-15 23:02:08--  https://www6.ohiosos.gov/ords/f?p=VOTERFTP:DOWNLOAD::FILE:NO:2:P2_PRODUCT_NUMBER:75\n",
      "Resolving www6.ohiosos.gov (www6.ohiosos.gov)... 104.16.134.50, 104.16.135.50\n",
      "Connecting to www6.ohiosos.gov (www6.ohiosos.gov)|104.16.134.50|:443... connected.\n",
      "HTTP request sent, awaiting response... 200 \n",
      "Length: 18103916 (17M) [application/octet]\n",
      "Saving to: ‘f?p=VOTERFTP:DOWNLOAD::FILE:NO:2:P2_PRODUCT_NUMBER:75’\n",
      "\n",
      "f?p=VOTERFTP:DOWNLO 100%[===================>]  17.26M  4.00MB/s    in 4.4s    \n",
      "\n",
      "2020-11-15 23:02:13 (3.94 MB/s) - ‘f?p=VOTERFTP:DOWNLOAD::FILE:NO:2:P2_PRODUCT_NUMBER:75’ saved [18103916/18103916]\n",
      "\n",
      "--2020-11-15 23:02:13--  https://www6.ohiosos.gov/ords/f?p=VOTERFTP:DOWNLOAD::FILE:NO:2:P2_PRODUCT_NUMBER:76\n",
      "Resolving www6.ohiosos.gov (www6.ohiosos.gov)... 104.16.134.50, 104.16.135.50\n",
      "Connecting to www6.ohiosos.gov (www6.ohiosos.gov)|104.16.134.50|:443... connected.\n",
      "HTTP request sent, awaiting response... 200 \n",
      "Length: 132931766 (127M) [application/octet]\n",
      "Saving to: ‘f?p=VOTERFTP:DOWNLOAD::FILE:NO:2:P2_PRODUCT_NUMBER:76’\n",
      "\n",
      "f?p=VOTERFTP:DOWNLO 100%[===================>] 126.77M  3.78MB/s    in 31s     \n",
      "\n",
      "2020-11-15 23:02:45 (4.08 MB/s) - ‘f?p=VOTERFTP:DOWNLOAD::FILE:NO:2:P2_PRODUCT_NUMBER:76’ saved [132931766/132931766]\n",
      "\n",
      "--2020-11-15 23:02:45--  https://www6.ohiosos.gov/ords/f?p=VOTERFTP:DOWNLOAD::FILE:NO:2:P2_PRODUCT_NUMBER:77\n",
      "Resolving www6.ohiosos.gov (www6.ohiosos.gov)... 104.16.134.50, 104.16.135.50\n",
      "Connecting to www6.ohiosos.gov (www6.ohiosos.gov)|104.16.134.50|:443... connected.\n",
      "HTTP request sent, awaiting response... 200 \n",
      "Length: 197106195 (188M) [application/octet]\n",
      "Saving to: ‘f?p=VOTERFTP:DOWNLOAD::FILE:NO:2:P2_PRODUCT_NUMBER:77’\n",
      "\n",
      "f?p=VOTERFTP:DOWNLO 100%[===================>] 187.97M  4.21MB/s    in 49s     \n",
      "\n",
      "2020-11-15 23:03:36 (3.85 MB/s) - ‘f?p=VOTERFTP:DOWNLOAD::FILE:NO:2:P2_PRODUCT_NUMBER:77’ saved [197106195/197106195]\n",
      "\n",
      "--2020-11-15 23:03:36--  https://www6.ohiosos.gov/ords/f?p=VOTERFTP:DOWNLOAD::FILE:NO:2:P2_PRODUCT_NUMBER:78\n",
      "Resolving www6.ohiosos.gov (www6.ohiosos.gov)... 104.16.134.50, 104.16.135.50\n",
      "Connecting to www6.ohiosos.gov (www6.ohiosos.gov)|104.16.134.50|:443... connected.\n",
      "HTTP request sent, awaiting response... 200 \n",
      "Length: 75856005 (72M) [application/octet]\n",
      "Saving to: ‘f?p=VOTERFTP:DOWNLOAD::FILE:NO:2:P2_PRODUCT_NUMBER:78’\n",
      "\n",
      "f?p=VOTERFTP:DOWNLO 100%[===================>]  72.34M  3.91MB/s    in 18s     \n",
      "\n",
      "2020-11-15 23:03:54 (4.11 MB/s) - ‘f?p=VOTERFTP:DOWNLOAD::FILE:NO:2:P2_PRODUCT_NUMBER:78’ saved [75856005/75856005]\n",
      "\n",
      "--2020-11-15 23:03:54--  https://www6.ohiosos.gov/ords/f?p=VOTERFTP:DOWNLOAD::FILE:NO:2:P2_PRODUCT_NUMBER:79\n",
      "Resolving www6.ohiosos.gov (www6.ohiosos.gov)... 104.16.134.50, 104.16.135.50\n",
      "Connecting to www6.ohiosos.gov (www6.ohiosos.gov)|104.16.134.50|:443... connected.\n",
      "HTTP request sent, awaiting response... 200 \n",
      "Length: 33482168 (32M) [application/octet]\n",
      "Saving to: ‘f?p=VOTERFTP:DOWNLOAD::FILE:NO:2:P2_PRODUCT_NUMBER:79’\n",
      "\n",
      "f?p=VOTERFTP:DOWNLO 100%[===================>]  31.93M  4.09MB/s    in 7.9s    \n",
      "\n",
      "2020-11-15 23:04:03 (4.05 MB/s) - ‘f?p=VOTERFTP:DOWNLOAD::FILE:NO:2:P2_PRODUCT_NUMBER:79’ saved [33482168/33482168]\n",
      "\n",
      "--2020-11-15 23:04:03--  https://www6.ohiosos.gov/ords/f?p=VOTERFTP:DOWNLOAD::FILE:NO:2:P2_PRODUCT_NUMBER:80\n",
      "Resolving www6.ohiosos.gov (www6.ohiosos.gov)... 104.16.134.50, 104.16.135.50\n",
      "Connecting to www6.ohiosos.gov (www6.ohiosos.gov)|104.16.134.50|:443... connected.\n",
      "HTTP request sent, awaiting response... 200 \n",
      "Length: 22863088 (22M) [application/octet]\n",
      "Saving to: ‘f?p=VOTERFTP:DOWNLOAD::FILE:NO:2:P2_PRODUCT_NUMBER:80’\n",
      "\n",
      "f?p=VOTERFTP:DOWNLO 100%[===================>]  21.80M  4.20MB/s    in 5.4s    \n",
      "\n",
      "2020-11-15 23:04:09 (4.06 MB/s) - ‘f?p=VOTERFTP:DOWNLOAD::FILE:NO:2:P2_PRODUCT_NUMBER:80’ saved [22863088/22863088]\n",
      "\n",
      "--2020-11-15 23:04:09--  https://www6.ohiosos.gov/ords/f?p=VOTERFTP:DOWNLOAD::FILE:NO:2:P2_PRODUCT_NUMBER:81\n",
      "Resolving www6.ohiosos.gov (www6.ohiosos.gov)... 104.16.134.50, 104.16.135.50\n",
      "Connecting to www6.ohiosos.gov (www6.ohiosos.gov)|104.16.134.50|:443... connected.\n",
      "HTTP request sent, awaiting response... 200 \n",
      "Length: 11148202 (11M) [application/octet]\n",
      "Saving to: ‘f?p=VOTERFTP:DOWNLOAD::FILE:NO:2:P2_PRODUCT_NUMBER:81’\n",
      "\n",
      "f?p=VOTERFTP:DOWNLO 100%[===================>]  10.63M  4.13MB/s    in 2.6s    \n",
      "\n",
      "2020-11-15 23:04:11 (4.13 MB/s) - ‘f?p=VOTERFTP:DOWNLOAD::FILE:NO:2:P2_PRODUCT_NUMBER:81’ saved [11148202/11148202]\n",
      "\n",
      "--2020-11-15 23:04:11--  https://www6.ohiosos.gov/ords/f?p=VOTERFTP:DOWNLOAD::FILE:NO:2:P2_PRODUCT_NUMBER:82\n",
      "Resolving www6.ohiosos.gov (www6.ohiosos.gov)... 104.16.134.50, 104.16.135.50\n",
      "Connecting to www6.ohiosos.gov (www6.ohiosos.gov)|104.16.134.50|:443... connected.\n",
      "HTTP request sent, awaiting response... 200 \n",
      "Length: 4690300 (4.5M) [application/octet]\n",
      "Saving to: ‘f?p=VOTERFTP:DOWNLOAD::FILE:NO:2:P2_PRODUCT_NUMBER:82’\n",
      "\n",
      "f?p=VOTERFTP:DOWNLO 100%[===================>]   4.47M  4.28MB/s    in 1.0s    \n",
      "\n",
      "2020-11-15 23:04:13 (4.28 MB/s) - ‘f?p=VOTERFTP:DOWNLOAD::FILE:NO:2:P2_PRODUCT_NUMBER:82’ saved [4690300/4690300]\n",
      "\n",
      "--2020-11-15 23:04:13--  https://www6.ohiosos.gov/ords/f?p=VOTERFTP:DOWNLOAD::FILE:NO:2:P2_PRODUCT_NUMBER:83\n",
      "Resolving www6.ohiosos.gov (www6.ohiosos.gov)... 104.16.134.50, 104.16.135.50\n",
      "Connecting to www6.ohiosos.gov (www6.ohiosos.gov)|104.16.134.50|:443... connected.\n",
      "HTTP request sent, awaiting response... 200 \n",
      "Length: 91486368 (87M) [application/octet]\n",
      "Saving to: ‘f?p=VOTERFTP:DOWNLOAD::FILE:NO:2:P2_PRODUCT_NUMBER:83’\n",
      "\n",
      "f?p=VOTERFTP:DOWNLO 100%[===================>]  87.25M  4.13MB/s    in 22s     \n",
      "\n",
      "2020-11-15 23:04:36 (4.00 MB/s) - ‘f?p=VOTERFTP:DOWNLOAD::FILE:NO:2:P2_PRODUCT_NUMBER:83’ saved [91486368/91486368]\n",
      "\n",
      "--2020-11-15 23:04:36--  https://www6.ohiosos.gov/ords/f?p=VOTERFTP:DOWNLOAD::FILE:NO:2:P2_PRODUCT_NUMBER:84\n",
      "Resolving www6.ohiosos.gov (www6.ohiosos.gov)... 104.16.134.50, 104.16.135.50\n",
      "Connecting to www6.ohiosos.gov (www6.ohiosos.gov)|104.16.134.50|:443... connected.\n",
      "HTTP request sent, awaiting response... 200 \n",
      "Length: 23037681 (22M) [application/octet]\n",
      "Saving to: ‘f?p=VOTERFTP:DOWNLOAD::FILE:NO:2:P2_PRODUCT_NUMBER:84’\n",
      "\n",
      "f?p=VOTERFTP:DOWNLO 100%[===================>]  21.97M  4.19MB/s    in 5.3s    \n",
      "\n",
      "2020-11-15 23:04:42 (4.17 MB/s) - ‘f?p=VOTERFTP:DOWNLOAD::FILE:NO:2:P2_PRODUCT_NUMBER:84’ saved [23037681/23037681]\n",
      "\n",
      "--2020-11-15 23:04:42--  https://www6.ohiosos.gov/ords/f?p=VOTERFTP:DOWNLOAD::FILE:NO:2:P2_PRODUCT_NUMBER:85\n",
      "Resolving www6.ohiosos.gov (www6.ohiosos.gov)... 104.16.134.50, 104.16.135.50\n",
      "Connecting to www6.ohiosos.gov (www6.ohiosos.gov)|104.16.134.50|:443... connected.\n",
      "HTTP request sent, awaiting response... 200 \n",
      "Length: 40303054 (38M) [application/octet]\n",
      "Saving to: ‘f?p=VOTERFTP:DOWNLOAD::FILE:NO:2:P2_PRODUCT_NUMBER:85’\n",
      "\n",
      "f?p=VOTERFTP:DOWNLO 100%[===================>]  38.44M  4.18MB/s    in 9.7s    \n",
      "\n",
      "2020-11-15 23:04:52 (3.97 MB/s) - ‘f?p=VOTERFTP:DOWNLOAD::FILE:NO:2:P2_PRODUCT_NUMBER:85’ saved [40303054/40303054]\n",
      "\n",
      "--2020-11-15 23:04:52--  https://www6.ohiosos.gov/ords/f?p=VOTERFTP:DOWNLOAD::FILE:NO:2:P2_PRODUCT_NUMBER:86\n",
      "Resolving www6.ohiosos.gov (www6.ohiosos.gov)... 104.16.134.50, 104.16.135.50\n",
      "Connecting to www6.ohiosos.gov (www6.ohiosos.gov)|104.16.134.50|:443... connected.\n",
      "HTTP request sent, awaiting response... 200 \n",
      "Length: 13386369 (13M) [application/octet]\n",
      "Saving to: ‘f?p=VOTERFTP:DOWNLOAD::FILE:NO:2:P2_PRODUCT_NUMBER:86’\n",
      "\n",
      "f?p=VOTERFTP:DOWNLO 100%[===================>]  12.77M  4.22MB/s    in 3.0s    \n",
      "\n",
      "2020-11-15 23:04:55 (4.22 MB/s) - ‘f?p=VOTERFTP:DOWNLOAD::FILE:NO:2:P2_PRODUCT_NUMBER:86’ saved [13386369/13386369]\n",
      "\n",
      "--2020-11-15 23:04:55--  https://www6.ohiosos.gov/ords/f?p=VOTERFTP:DOWNLOAD::FILE:NO:2:P2_PRODUCT_NUMBER:87\n",
      "Resolving www6.ohiosos.gov (www6.ohiosos.gov)... 104.16.134.50, 104.16.135.50\n",
      "Connecting to www6.ohiosos.gov (www6.ohiosos.gov)|104.16.134.50|:443... connected.\n",
      "HTTP request sent, awaiting response... 200 \n",
      "Length: 50802356 (48M) [application/octet]\n",
      "Saving to: ‘f?p=VOTERFTP:DOWNLOAD::FILE:NO:2:P2_PRODUCT_NUMBER:87’\n",
      "\n",
      "f?p=VOTERFTP:DOWNLO 100%[===================>]  48.45M  3.98MB/s    in 12s     \n",
      "\n",
      "2020-11-15 23:05:08 (4.08 MB/s) - ‘f?p=VOTERFTP:DOWNLOAD::FILE:NO:2:P2_PRODUCT_NUMBER:87’ saved [50802356/50802356]\n",
      "\n",
      "--2020-11-15 23:05:08--  https://www6.ohiosos.gov/ords/f?p=VOTERFTP:DOWNLOAD::FILE:NO:2:P2_PRODUCT_NUMBER:88\n",
      "Resolving www6.ohiosos.gov (www6.ohiosos.gov)... 104.16.134.50, 104.16.135.50\n",
      "Connecting to www6.ohiosos.gov (www6.ohiosos.gov)|104.16.134.50|:443... connected.\n",
      "HTTP request sent, awaiting response... 200 \n",
      "Length: 7671878 (7.3M) [application/octet]\n",
      "Saving to: ‘f?p=VOTERFTP:DOWNLOAD::FILE:NO:2:P2_PRODUCT_NUMBER:88’\n",
      "\n",
      "f?p=VOTERFTP:DOWNLO 100%[===================>]   7.32M  1.91MB/s    in 3.9s    \n",
      "\n",
      "2020-11-15 23:05:13 (1.88 MB/s) - ‘f?p=VOTERFTP:DOWNLOAD::FILE:NO:2:P2_PRODUCT_NUMBER:88’ saved [7671878/7671878]\n",
      "\n"
     ]
    }
   ],
   "source": [
    "! mkdir data; cd data ; for i in {1..88}; do wget https://www6.ohiosos.gov/ords/f?p=VOTERFTP:DOWNLOAD::FILE:NO:2:P2_PRODUCT_NUMBER:${i}; done"
   ]
  },
  {
   "cell_type": "code",
   "execution_count": 13,
   "metadata": {},
   "outputs": [],
   "source": [
    "import pandas as pd\n",
    "import os"
   ]
  },
  {
   "cell_type": "code",
   "execution_count": 23,
   "metadata": {},
   "outputs": [],
   "source": [
    "# def get_county_dict():\n",
    "#     with open(\"ohio_county_code.txt\", \"r\") as f:\n",
    "#         content = f.readlines()\n",
    "#     content = [x.strip() for x in content]\n",
    "#     county_dict = {}\n",
    "#     for line in content:\n",
    "#         line = line.strip()\n",
    "#         split_line = line.split(\" \")\n",
    "#         county_dict[code] = county\n",
    "#     return county_dict"
   ]
  },
  {
   "cell_type": "code",
   "execution_count": 44,
   "metadata": {},
   "outputs": [
    {
     "name": "stdout",
     "output_type": "stream",
     "text": [
      "f?p=VOTERFTP:DOWNLOAD::FILE:NO:2:P2_PRODUCT_NUMBER:79\n"
     ]
    },
    {
     "name": "stderr",
     "output_type": "stream",
     "text": [
      "/Users/abishkarchhetri/opt/anaconda3/envs/py36/lib/python3.6/site-packages/IPython/core/interactiveshell.py:2714: DtypeWarning: Columns (25,66,67,74,79,100) have mixed types.Specify dtype option on import or set low_memory=False.\n",
      "  interactivity=interactivity, compiler=compiler, result=result)\n"
     ]
    },
    {
     "name": "stdout",
     "output_type": "stream",
     "text": [
      "f?p=VOTERFTP:DOWNLOAD::FILE:NO:2:P2_PRODUCT_NUMBER:46\n"
     ]
    },
    {
     "name": "stderr",
     "output_type": "stream",
     "text": [
      "/Users/abishkarchhetri/opt/anaconda3/envs/py36/lib/python3.6/site-packages/IPython/core/interactiveshell.py:2714: DtypeWarning: Columns (58,74,79,82,87,93,97,100) have mixed types.Specify dtype option on import or set low_memory=False.\n",
      "  interactivity=interactivity, compiler=compiler, result=result)\n"
     ]
    },
    {
     "name": "stdout",
     "output_type": "stream",
     "text": [
      "f?p=VOTERFTP:DOWNLOAD::FILE:NO:2:P2_PRODUCT_NUMBER:41\n"
     ]
    },
    {
     "name": "stderr",
     "output_type": "stream",
     "text": [
      "/Users/abishkarchhetri/opt/anaconda3/envs/py36/lib/python3.6/site-packages/IPython/core/interactiveshell.py:2714: DtypeWarning: Columns (60,66,67,73,79,103) have mixed types.Specify dtype option on import or set low_memory=False.\n",
      "  interactivity=interactivity, compiler=compiler, result=result)\n"
     ]
    },
    {
     "name": "stdout",
     "output_type": "stream",
     "text": [
      "f?p=VOTERFTP:DOWNLOAD::FILE:NO:2:P2_PRODUCT_NUMBER:48\n"
     ]
    },
    {
     "name": "stderr",
     "output_type": "stream",
     "text": [
      "/Users/abishkarchhetri/opt/anaconda3/envs/py36/lib/python3.6/site-packages/IPython/core/interactiveshell.py:2714: DtypeWarning: Columns (60,73,78,79,96,97,103) have mixed types.Specify dtype option on import or set low_memory=False.\n",
      "  interactivity=interactivity, compiler=compiler, result=result)\n"
     ]
    },
    {
     "name": "stdout",
     "output_type": "stream",
     "text": [
      "f?p=VOTERFTP:DOWNLOAD::FILE:NO:2:P2_PRODUCT_NUMBER:77\n"
     ]
    },
    {
     "name": "stderr",
     "output_type": "stream",
     "text": [
      "/Users/abishkarchhetri/opt/anaconda3/envs/py36/lib/python3.6/site-packages/IPython/core/interactiveshell.py:2714: DtypeWarning: Columns (20,25,26,58,64,66,67,74,75,82,87,93,96,100) have mixed types.Specify dtype option on import or set low_memory=False.\n",
      "  interactivity=interactivity, compiler=compiler, result=result)\n"
     ]
    },
    {
     "name": "stdout",
     "output_type": "stream",
     "text": [
      "f?p=VOTERFTP:DOWNLOAD::FILE:NO:2:P2_PRODUCT_NUMBER:83\n"
     ]
    },
    {
     "name": "stderr",
     "output_type": "stream",
     "text": [
      "/Users/abishkarchhetri/opt/anaconda3/envs/py36/lib/python3.6/site-packages/IPython/core/interactiveshell.py:2714: DtypeWarning: Columns (58,64,66,67,73,74,78,79,87,93,97,100,103) have mixed types.Specify dtype option on import or set low_memory=False.\n",
      "  interactivity=interactivity, compiler=compiler, result=result)\n"
     ]
    },
    {
     "name": "stdout",
     "output_type": "stream",
     "text": [
      "f?p=VOTERFTP:DOWNLOAD::FILE:NO:2:P2_PRODUCT_NUMBER:84\n"
     ]
    },
    {
     "name": "stderr",
     "output_type": "stream",
     "text": [
      "/Users/abishkarchhetri/opt/anaconda3/envs/py36/lib/python3.6/site-packages/IPython/core/interactiveshell.py:2714: DtypeWarning: Columns (58,64,66,67,73,74,79) have mixed types.Specify dtype option on import or set low_memory=False.\n",
      "  interactivity=interactivity, compiler=compiler, result=result)\n"
     ]
    },
    {
     "name": "stdout",
     "output_type": "stream",
     "text": [
      "f?p=VOTERFTP:DOWNLOAD::FILE:NO:2:P2_PRODUCT_NUMBER:70\n"
     ]
    },
    {
     "name": "stderr",
     "output_type": "stream",
     "text": [
      "/Users/abishkarchhetri/opt/anaconda3/envs/py36/lib/python3.6/site-packages/IPython/core/interactiveshell.py:2714: DtypeWarning: Columns (25,26,58,60,64,73,74,79,87,96) have mixed types.Specify dtype option on import or set low_memory=False.\n",
      "  interactivity=interactivity, compiler=compiler, result=result)\n"
     ]
    },
    {
     "name": "stdout",
     "output_type": "stream",
     "text": [
      "f?p=VOTERFTP:DOWNLOAD::FILE:NO:2:P2_PRODUCT_NUMBER:24\n"
     ]
    },
    {
     "name": "stderr",
     "output_type": "stream",
     "text": [
      "/Users/abishkarchhetri/opt/anaconda3/envs/py36/lib/python3.6/site-packages/IPython/core/interactiveshell.py:2714: DtypeWarning: Columns (25,26,60,66,67,79,96,103) have mixed types.Specify dtype option on import or set low_memory=False.\n",
      "  interactivity=interactivity, compiler=compiler, result=result)\n"
     ]
    },
    {
     "name": "stdout",
     "output_type": "stream",
     "text": [
      "f?p=VOTERFTP:DOWNLOAD::FILE:NO:2:P2_PRODUCT_NUMBER:23\n"
     ]
    },
    {
     "name": "stderr",
     "output_type": "stream",
     "text": [
      "/Users/abishkarchhetri/opt/anaconda3/envs/py36/lib/python3.6/site-packages/IPython/core/interactiveshell.py:2714: DtypeWarning: Columns (26,58,64,66,67,73,74,87,93,96,100) have mixed types.Specify dtype option on import or set low_memory=False.\n",
      "  interactivity=interactivity, compiler=compiler, result=result)\n"
     ]
    },
    {
     "name": "stdout",
     "output_type": "stream",
     "text": [
      "f?p=VOTERFTP:DOWNLOAD::FILE:NO:2:P2_PRODUCT_NUMBER:15\n"
     ]
    },
    {
     "name": "stderr",
     "output_type": "stream",
     "text": [
      "/Users/abishkarchhetri/opt/anaconda3/envs/py36/lib/python3.6/site-packages/IPython/core/interactiveshell.py:2714: DtypeWarning: Columns (20,25,26,58,64,66,67,73,74,79,96,100,106) have mixed types.Specify dtype option on import or set low_memory=False.\n",
      "  interactivity=interactivity, compiler=compiler, result=result)\n"
     ]
    },
    {
     "name": "stdout",
     "output_type": "stream",
     "text": [
      "f?p=VOTERFTP:DOWNLOAD::FILE:NO:2:P2_PRODUCT_NUMBER:12\n"
     ]
    },
    {
     "name": "stderr",
     "output_type": "stream",
     "text": [
      "/Users/abishkarchhetri/opt/anaconda3/envs/py36/lib/python3.6/site-packages/IPython/core/interactiveshell.py:2714: DtypeWarning: Columns (58,64,66,67,73,74,79,87,93,100,103) have mixed types.Specify dtype option on import or set low_memory=False.\n",
      "  interactivity=interactivity, compiler=compiler, result=result)\n"
     ]
    },
    {
     "name": "stdout",
     "output_type": "stream",
     "text": [
      "f?p=VOTERFTP:DOWNLOAD::FILE:NO:2:P2_PRODUCT_NUMBER:71\n"
     ]
    },
    {
     "name": "stderr",
     "output_type": "stream",
     "text": [
      "/Users/abishkarchhetri/opt/anaconda3/envs/py36/lib/python3.6/site-packages/IPython/core/interactiveshell.py:2714: DtypeWarning: Columns (58,60,66,67,73,74,78,79,96,103) have mixed types.Specify dtype option on import or set low_memory=False.\n",
      "  interactivity=interactivity, compiler=compiler, result=result)\n"
     ]
    },
    {
     "name": "stdout",
     "output_type": "stream",
     "text": [
      "f?p=VOTERFTP:DOWNLOAD::FILE:NO:2:P2_PRODUCT_NUMBER:85\n"
     ]
    },
    {
     "name": "stderr",
     "output_type": "stream",
     "text": [
      "/Users/abishkarchhetri/opt/anaconda3/envs/py36/lib/python3.6/site-packages/IPython/core/interactiveshell.py:2714: DtypeWarning: Columns (25,26,60,73,74,79,87,93,96,100,103,106) have mixed types.Specify dtype option on import or set low_memory=False.\n",
      "  interactivity=interactivity, compiler=compiler, result=result)\n"
     ]
    },
    {
     "name": "stdout",
     "output_type": "stream",
     "text": [
      "f?p=VOTERFTP:DOWNLOAD::FILE:NO:2:P2_PRODUCT_NUMBER:49\n"
     ]
    },
    {
     "name": "stderr",
     "output_type": "stream",
     "text": [
      "/Users/abishkarchhetri/opt/anaconda3/envs/py36/lib/python3.6/site-packages/IPython/core/interactiveshell.py:2714: DtypeWarning: Columns (25,26,58,73,74,79,96) have mixed types.Specify dtype option on import or set low_memory=False.\n",
      "  interactivity=interactivity, compiler=compiler, result=result)\n"
     ]
    },
    {
     "name": "stdout",
     "output_type": "stream",
     "text": [
      "f?p=VOTERFTP:DOWNLOAD::FILE:NO:2:P2_PRODUCT_NUMBER:82\n"
     ]
    },
    {
     "name": "stderr",
     "output_type": "stream",
     "text": [
      "/Users/abishkarchhetri/opt/anaconda3/envs/py36/lib/python3.6/site-packages/IPython/core/interactiveshell.py:2714: DtypeWarning: Columns (56,58,67,74,87,100,103) have mixed types.Specify dtype option on import or set low_memory=False.\n",
      "  interactivity=interactivity, compiler=compiler, result=result)\n"
     ]
    },
    {
     "name": "stdout",
     "output_type": "stream",
     "text": [
      "f?p=VOTERFTP:DOWNLOAD::FILE:NO:2:P2_PRODUCT_NUMBER:76\n"
     ]
    },
    {
     "name": "stderr",
     "output_type": "stream",
     "text": [
      "/Users/abishkarchhetri/opt/anaconda3/envs/py36/lib/python3.6/site-packages/IPython/core/interactiveshell.py:2714: DtypeWarning: Columns (6,19,21,22,25,46,50,56,58,60,64,66,67,73,74,75,79,87,93,96,100,106) have mixed types.Specify dtype option on import or set low_memory=False.\n",
      "  interactivity=interactivity, compiler=compiler, result=result)\n"
     ]
    },
    {
     "name": "stdout",
     "output_type": "stream",
     "text": [
      "f?p=VOTERFTP:DOWNLOAD::FILE:NO:2:P2_PRODUCT_NUMBER:40\n"
     ]
    },
    {
     "name": "stderr",
     "output_type": "stream",
     "text": [
      "/Users/abishkarchhetri/opt/anaconda3/envs/py36/lib/python3.6/site-packages/IPython/core/interactiveshell.py:2714: DtypeWarning: Columns (25,26,66,74,78,79,103) have mixed types.Specify dtype option on import or set low_memory=False.\n",
      "  interactivity=interactivity, compiler=compiler, result=result)\n"
     ]
    },
    {
     "name": "stdout",
     "output_type": "stream",
     "text": [
      "f?p=VOTERFTP:DOWNLOAD::FILE:NO:2:P2_PRODUCT_NUMBER:78\n"
     ]
    },
    {
     "name": "stderr",
     "output_type": "stream",
     "text": [
      "/Users/abishkarchhetri/opt/anaconda3/envs/py36/lib/python3.6/site-packages/IPython/core/interactiveshell.py:2714: DtypeWarning: Columns (25,26,58,66,67,73,74,79,82,87,93,96,100) have mixed types.Specify dtype option on import or set low_memory=False.\n",
      "  interactivity=interactivity, compiler=compiler, result=result)\n"
     ]
    },
    {
     "name": "stdout",
     "output_type": "stream",
     "text": [
      "f?p=VOTERFTP:DOWNLOAD::FILE:NO:2:P2_PRODUCT_NUMBER:47\n"
     ]
    },
    {
     "name": "stderr",
     "output_type": "stream",
     "text": [
      "/Users/abishkarchhetri/opt/anaconda3/envs/py36/lib/python3.6/site-packages/IPython/core/interactiveshell.py:2714: DtypeWarning: Columns (58,64,74,75,82,87,93,96,97,103,106) have mixed types.Specify dtype option on import or set low_memory=False.\n",
      "  interactivity=interactivity, compiler=compiler, result=result)\n"
     ]
    },
    {
     "name": "stdout",
     "output_type": "stream",
     "text": [
      "f?p=VOTERFTP:DOWNLOAD::FILE:NO:2:P2_PRODUCT_NUMBER:13\n"
     ]
    },
    {
     "name": "stderr",
     "output_type": "stream",
     "text": [
      "/Users/abishkarchhetri/opt/anaconda3/envs/py36/lib/python3.6/site-packages/IPython/core/interactiveshell.py:2714: DtypeWarning: Columns (25,26,58,60,64,66,67,73,74,78,79,82,93,96,97,100,103,106) have mixed types.Specify dtype option on import or set low_memory=False.\n",
      "  interactivity=interactivity, compiler=compiler, result=result)\n"
     ]
    },
    {
     "name": "stdout",
     "output_type": "stream",
     "text": [
      "f?p=VOTERFTP:DOWNLOAD::FILE:NO:2:P2_PRODUCT_NUMBER:14\n"
     ]
    },
    {
     "name": "stderr",
     "output_type": "stream",
     "text": [
      "/Users/abishkarchhetri/opt/anaconda3/envs/py36/lib/python3.6/site-packages/IPython/core/interactiveshell.py:2714: DtypeWarning: Columns (20,25,26,66,73,79,96,103) have mixed types.Specify dtype option on import or set low_memory=False.\n",
      "  interactivity=interactivity, compiler=compiler, result=result)\n"
     ]
    },
    {
     "name": "stdout",
     "output_type": "stream",
     "text": [
      "f?p=VOTERFTP:DOWNLOAD::FILE:NO:2:P2_PRODUCT_NUMBER:22\n"
     ]
    },
    {
     "name": "stderr",
     "output_type": "stream",
     "text": [
      "/Users/abishkarchhetri/opt/anaconda3/envs/py36/lib/python3.6/site-packages/IPython/core/interactiveshell.py:2714: DtypeWarning: Columns (20,58,64,74,82,87,93,96,106) have mixed types.Specify dtype option on import or set low_memory=False.\n",
      "  interactivity=interactivity, compiler=compiler, result=result)\n"
     ]
    },
    {
     "name": "stdout",
     "output_type": "stream",
     "text": [
      "f?p=VOTERFTP:DOWNLOAD::FILE:NO:2:P2_PRODUCT_NUMBER:25\n"
     ]
    },
    {
     "name": "stderr",
     "output_type": "stream",
     "text": [
      "/Users/abishkarchhetri/opt/anaconda3/envs/py36/lib/python3.6/site-packages/IPython/core/interactiveshell.py:2714: DtypeWarning: Columns (20,25,26,58,64,66,67,73,74,75,78,79,82,87,93,96,97,100,106) have mixed types.Specify dtype option on import or set low_memory=False.\n",
      "  interactivity=interactivity, compiler=compiler, result=result)\n"
     ]
    },
    {
     "name": "stdout",
     "output_type": "stream",
     "text": [
      "f?p=VOTERFTP:DOWNLOAD::FILE:NO:2:P2_PRODUCT_NUMBER:38\n"
     ]
    },
    {
     "name": "stderr",
     "output_type": "stream",
     "text": [
      "/Users/abishkarchhetri/opt/anaconda3/envs/py36/lib/python3.6/site-packages/IPython/core/interactiveshell.py:2714: DtypeWarning: Columns (58,60,66,67,73,75,103) have mixed types.Specify dtype option on import or set low_memory=False.\n",
      "  interactivity=interactivity, compiler=compiler, result=result)\n"
     ]
    },
    {
     "name": "stdout",
     "output_type": "stream",
     "text": [
      "f?p=VOTERFTP:DOWNLOAD::FILE:NO:2:P2_PRODUCT_NUMBER:36\n"
     ]
    },
    {
     "name": "stderr",
     "output_type": "stream",
     "text": [
      "/Users/abishkarchhetri/opt/anaconda3/envs/py36/lib/python3.6/site-packages/IPython/core/interactiveshell.py:2714: DtypeWarning: Columns (60,64,66,67,96,97,103) have mixed types.Specify dtype option on import or set low_memory=False.\n",
      "  interactivity=interactivity, compiler=compiler, result=result)\n"
     ]
    },
    {
     "name": "stdout",
     "output_type": "stream",
     "text": [
      "f?p=VOTERFTP:DOWNLOAD::FILE:NO:2:P2_PRODUCT_NUMBER:31\n"
     ]
    },
    {
     "name": "stderr",
     "output_type": "stream",
     "text": [
      "/Users/abishkarchhetri/opt/anaconda3/envs/py36/lib/python3.6/site-packages/IPython/core/interactiveshell.py:2714: DtypeWarning: Columns (58,64,66,67,73,74,78,79,82,87,93,96,97,100,103,106) have mixed types.Specify dtype option on import or set low_memory=False.\n",
      "  interactivity=interactivity, compiler=compiler, result=result)\n"
     ]
    },
    {
     "name": "stdout",
     "output_type": "stream",
     "text": [
      "f?p=VOTERFTP:DOWNLOAD::FILE:NO:2:P2_PRODUCT_NUMBER:65\n"
     ]
    },
    {
     "name": "stderr",
     "output_type": "stream",
     "text": [
      "/Users/abishkarchhetri/opt/anaconda3/envs/py36/lib/python3.6/site-packages/IPython/core/interactiveshell.py:2714: DtypeWarning: Columns (25,67,74,79,93,96,97) have mixed types.Specify dtype option on import or set low_memory=False.\n",
      "  interactivity=interactivity, compiler=compiler, result=result)\n"
     ]
    },
    {
     "name": "stdout",
     "output_type": "stream",
     "text": [
      "f?p=VOTERFTP:DOWNLOAD::FILE:NO:2:P2_PRODUCT_NUMBER:62\n"
     ]
    },
    {
     "name": "stderr",
     "output_type": "stream",
     "text": [
      "/Users/abishkarchhetri/opt/anaconda3/envs/py36/lib/python3.6/site-packages/IPython/core/interactiveshell.py:2714: DtypeWarning: Columns (96) have mixed types.Specify dtype option on import or set low_memory=False.\n",
      "  interactivity=interactivity, compiler=compiler, result=result)\n"
     ]
    },
    {
     "name": "stdout",
     "output_type": "stream",
     "text": [
      "f?p=VOTERFTP:DOWNLOAD::FILE:NO:2:P2_PRODUCT_NUMBER:54\n"
     ]
    },
    {
     "name": "stderr",
     "output_type": "stream",
     "text": [
      "/Users/abishkarchhetri/opt/anaconda3/envs/py36/lib/python3.6/site-packages/IPython/core/interactiveshell.py:2714: DtypeWarning: Columns (25,58,64,74,82,93,103) have mixed types.Specify dtype option on import or set low_memory=False.\n",
      "  interactivity=interactivity, compiler=compiler, result=result)\n"
     ]
    },
    {
     "name": "stdout",
     "output_type": "stream",
     "text": [
      "f?p=VOTERFTP:DOWNLOAD::FILE:NO:2:P2_PRODUCT_NUMBER:53\n"
     ]
    },
    {
     "name": "stderr",
     "output_type": "stream",
     "text": [
      "/Users/abishkarchhetri/opt/anaconda3/envs/py36/lib/python3.6/site-packages/IPython/core/interactiveshell.py:2714: DtypeWarning: Columns (64,74,79,82,103) have mixed types.Specify dtype option on import or set low_memory=False.\n",
      "  interactivity=interactivity, compiler=compiler, result=result)\n"
     ]
    },
    {
     "name": "stdout",
     "output_type": "stream",
     "text": [
      "f?p=VOTERFTP:DOWNLOAD::FILE:NO:2:P2_PRODUCT_NUMBER:30\n"
     ]
    },
    {
     "name": "stderr",
     "output_type": "stream",
     "text": [
      "/Users/abishkarchhetri/opt/anaconda3/envs/py36/lib/python3.6/site-packages/IPython/core/interactiveshell.py:2714: DtypeWarning: Columns (20,25,26,58,74,96,97) have mixed types.Specify dtype option on import or set low_memory=False.\n",
      "  interactivity=interactivity, compiler=compiler, result=result)\n"
     ]
    },
    {
     "name": "stdout",
     "output_type": "stream",
     "text": [
      "f?p=VOTERFTP:DOWNLOAD::FILE:NO:2:P2_PRODUCT_NUMBER:37\n"
     ]
    },
    {
     "name": "stderr",
     "output_type": "stream",
     "text": [
      "/Users/abishkarchhetri/opt/anaconda3/envs/py36/lib/python3.6/site-packages/IPython/core/interactiveshell.py:2714: DtypeWarning: Columns (66,67,79,96,105) have mixed types.Specify dtype option on import or set low_memory=False.\n",
      "  interactivity=interactivity, compiler=compiler, result=result)\n"
     ]
    },
    {
     "name": "stdout",
     "output_type": "stream",
     "text": [
      "f?p=VOTERFTP:DOWNLOAD::FILE:NO:2:P2_PRODUCT_NUMBER:39\n"
     ]
    },
    {
     "name": "stderr",
     "output_type": "stream",
     "text": [
      "/Users/abishkarchhetri/opt/anaconda3/envs/py36/lib/python3.6/site-packages/IPython/core/interactiveshell.py:2714: DtypeWarning: Columns (26,58,64,74,82,87,93,100,106) have mixed types.Specify dtype option on import or set low_memory=False.\n",
      "  interactivity=interactivity, compiler=compiler, result=result)\n"
     ]
    },
    {
     "name": "stdout",
     "output_type": "stream",
     "text": [
      "f?p=VOTERFTP:DOWNLOAD::FILE:NO:2:P2_PRODUCT_NUMBER:52\n"
     ]
    },
    {
     "name": "stderr",
     "output_type": "stream",
     "text": [
      "/Users/abishkarchhetri/opt/anaconda3/envs/py36/lib/python3.6/site-packages/IPython/core/interactiveshell.py:2714: DtypeWarning: Columns (20,25,26,58,64,67,74,75,82,87,93,96,103,106) have mixed types.Specify dtype option on import or set low_memory=False.\n",
      "  interactivity=interactivity, compiler=compiler, result=result)\n"
     ]
    },
    {
     "name": "stdout",
     "output_type": "stream",
     "text": [
      "f?p=VOTERFTP:DOWNLOAD::FILE:NO:2:P2_PRODUCT_NUMBER:55\n"
     ]
    },
    {
     "name": "stderr",
     "output_type": "stream",
     "text": [
      "/Users/abishkarchhetri/opt/anaconda3/envs/py36/lib/python3.6/site-packages/IPython/core/interactiveshell.py:2714: DtypeWarning: Columns (58,60,66,67,74,79,82,103) have mixed types.Specify dtype option on import or set low_memory=False.\n",
      "  interactivity=interactivity, compiler=compiler, result=result)\n"
     ]
    },
    {
     "name": "stdout",
     "output_type": "stream",
     "text": [
      "f?p=VOTERFTP:DOWNLOAD::FILE:NO:2:P2_PRODUCT_NUMBER:63\n"
     ]
    },
    {
     "name": "stderr",
     "output_type": "stream",
     "text": [
      "/Users/abishkarchhetri/opt/anaconda3/envs/py36/lib/python3.6/site-packages/IPython/core/interactiveshell.py:2714: DtypeWarning: Columns (58,64,73,103,105) have mixed types.Specify dtype option on import or set low_memory=False.\n",
      "  interactivity=interactivity, compiler=compiler, result=result)\n"
     ]
    },
    {
     "name": "stdout",
     "output_type": "stream",
     "text": [
      "f?p=VOTERFTP:DOWNLOAD::FILE:NO:2:P2_PRODUCT_NUMBER:64\n"
     ]
    },
    {
     "name": "stderr",
     "output_type": "stream",
     "text": [
      "/Users/abishkarchhetri/opt/anaconda3/envs/py36/lib/python3.6/site-packages/IPython/core/interactiveshell.py:2714: DtypeWarning: Columns (20,66,67,73,79,96) have mixed types.Specify dtype option on import or set low_memory=False.\n",
      "  interactivity=interactivity, compiler=compiler, result=result)\n"
     ]
    },
    {
     "name": "stdout",
     "output_type": "stream",
     "text": [
      "f?p=VOTERFTP:DOWNLOAD::FILE:NO:2:P2_PRODUCT_NUMBER:7\n"
     ]
    },
    {
     "name": "stderr",
     "output_type": "stream",
     "text": [
      "/Users/abishkarchhetri/opt/anaconda3/envs/py36/lib/python3.6/site-packages/IPython/core/interactiveshell.py:2714: DtypeWarning: Columns (20,25,26,58,60,66,67,73,74,79,103) have mixed types.Specify dtype option on import or set low_memory=False.\n",
      "  interactivity=interactivity, compiler=compiler, result=result)\n"
     ]
    },
    {
     "name": "stdout",
     "output_type": "stream",
     "text": [
      "f?p=VOTERFTP:DOWNLOAD::FILE:NO:2:P2_PRODUCT_NUMBER:9\n"
     ]
    },
    {
     "name": "stderr",
     "output_type": "stream",
     "text": [
      "/Users/abishkarchhetri/opt/anaconda3/envs/py36/lib/python3.6/site-packages/IPython/core/interactiveshell.py:2714: DtypeWarning: Columns (25,26,58,64,66,67,73,74,79,87,93,100,103) have mixed types.Specify dtype option on import or set low_memory=False.\n",
      "  interactivity=interactivity, compiler=compiler, result=result)\n"
     ]
    },
    {
     "name": "stdout",
     "output_type": "stream",
     "text": [
      "f?p=VOTERFTP:DOWNLOAD::FILE:NO:2:P2_PRODUCT_NUMBER:8\n"
     ]
    },
    {
     "name": "stderr",
     "output_type": "stream",
     "text": [
      "/Users/abishkarchhetri/opt/anaconda3/envs/py36/lib/python3.6/site-packages/IPython/core/interactiveshell.py:2714: DtypeWarning: Columns (25,26,67,78,96,97) have mixed types.Specify dtype option on import or set low_memory=False.\n",
      "  interactivity=interactivity, compiler=compiler, result=result)\n"
     ]
    },
    {
     "name": "stdout",
     "output_type": "stream",
     "text": [
      "f?p=VOTERFTP:DOWNLOAD::FILE:NO:2:P2_PRODUCT_NUMBER:1\n"
     ]
    },
    {
     "name": "stderr",
     "output_type": "stream",
     "text": [
      "/Users/abishkarchhetri/opt/anaconda3/envs/py36/lib/python3.6/site-packages/IPython/core/interactiveshell.py:2714: DtypeWarning: Columns (20,52,60,66,67,73,78,79,86,92,99,103,105) have mixed types.Specify dtype option on import or set low_memory=False.\n",
      "  interactivity=interactivity, compiler=compiler, result=result)\n"
     ]
    },
    {
     "name": "stdout",
     "output_type": "stream",
     "text": [
      "f?p=VOTERFTP:DOWNLOAD::FILE:NO:2:P2_PRODUCT_NUMBER:6\n"
     ]
    },
    {
     "name": "stderr",
     "output_type": "stream",
     "text": [
      "/Users/abishkarchhetri/opt/anaconda3/envs/py36/lib/python3.6/site-packages/IPython/core/interactiveshell.py:2714: DtypeWarning: Columns (58,60,64,73,74,79,82,87,96,103) have mixed types.Specify dtype option on import or set low_memory=False.\n",
      "  interactivity=interactivity, compiler=compiler, result=result)\n"
     ]
    },
    {
     "name": "stdout",
     "output_type": "stream",
     "text": [
      "f?p=VOTERFTP:DOWNLOAD::FILE:NO:2:P2_PRODUCT_NUMBER:20\n"
     ]
    },
    {
     "name": "stderr",
     "output_type": "stream",
     "text": [
      "/Users/abishkarchhetri/opt/anaconda3/envs/py36/lib/python3.6/site-packages/IPython/core/interactiveshell.py:2714: DtypeWarning: Columns (20,58,60,64,73,74,87,93,100,103) have mixed types.Specify dtype option on import or set low_memory=False.\n",
      "  interactivity=interactivity, compiler=compiler, result=result)\n"
     ]
    },
    {
     "name": "stdout",
     "output_type": "stream",
     "text": [
      "f?p=VOTERFTP:DOWNLOAD::FILE:NO:2:P2_PRODUCT_NUMBER:27\n"
     ]
    },
    {
     "name": "stderr",
     "output_type": "stream",
     "text": [
      "/Users/abishkarchhetri/opt/anaconda3/envs/py36/lib/python3.6/site-packages/IPython/core/interactiveshell.py:2714: DtypeWarning: Columns (25,26,58,60,66,67,73,74,79,96) have mixed types.Specify dtype option on import or set low_memory=False.\n",
      "  interactivity=interactivity, compiler=compiler, result=result)\n"
     ]
    },
    {
     "name": "stdout",
     "output_type": "stream",
     "text": [
      "f?p=VOTERFTP:DOWNLOAD::FILE:NO:2:P2_PRODUCT_NUMBER:18\n"
     ]
    },
    {
     "name": "stderr",
     "output_type": "stream",
     "text": [
      "/Users/abishkarchhetri/opt/anaconda3/envs/py36/lib/python3.6/site-packages/IPython/core/interactiveshell.py:2714: DtypeWarning: Columns (25,58,64,66,67,74,82,87,93,96,103) have mixed types.Specify dtype option on import or set low_memory=False.\n",
      "  interactivity=interactivity, compiler=compiler, result=result)\n"
     ]
    },
    {
     "name": "stdout",
     "output_type": "stream",
     "text": [
      "f?p=VOTERFTP:DOWNLOAD::FILE:NO:2:P2_PRODUCT_NUMBER:11\n"
     ]
    },
    {
     "name": "stderr",
     "output_type": "stream",
     "text": [
      "/Users/abishkarchhetri/opt/anaconda3/envs/py36/lib/python3.6/site-packages/IPython/core/interactiveshell.py:2714: DtypeWarning: Columns (58,64,66,67,74,79,82,87,93,97,100) have mixed types.Specify dtype option on import or set low_memory=False.\n",
      "  interactivity=interactivity, compiler=compiler, result=result)\n"
     ]
    },
    {
     "name": "stdout",
     "output_type": "stream",
     "text": [
      "f?p=VOTERFTP:DOWNLOAD::FILE:NO:2:P2_PRODUCT_NUMBER:16\n"
     ]
    },
    {
     "name": "stderr",
     "output_type": "stream",
     "text": [
      "/Users/abishkarchhetri/opt/anaconda3/envs/py36/lib/python3.6/site-packages/IPython/core/interactiveshell.py:2714: DtypeWarning: Columns (26,66,67,79,96) have mixed types.Specify dtype option on import or set low_memory=False.\n",
      "  interactivity=interactivity, compiler=compiler, result=result)\n"
     ]
    },
    {
     "name": "stdout",
     "output_type": "stream",
     "text": [
      "f?p=VOTERFTP:DOWNLOAD::FILE:NO:2:P2_PRODUCT_NUMBER:29\n"
     ]
    },
    {
     "name": "stderr",
     "output_type": "stream",
     "text": [
      "/Users/abishkarchhetri/opt/anaconda3/envs/py36/lib/python3.6/site-packages/IPython/core/interactiveshell.py:2714: DtypeWarning: Columns (20,25,26,58,64,66,67,73,74,78,79,82,87,93,97,100) have mixed types.Specify dtype option on import or set low_memory=False.\n",
      "  interactivity=interactivity, compiler=compiler, result=result)\n"
     ]
    },
    {
     "name": "stdout",
     "output_type": "stream",
     "text": [
      "f?p=VOTERFTP:DOWNLOAD::FILE:NO:2:P2_PRODUCT_NUMBER:42\n"
     ]
    },
    {
     "name": "stderr",
     "output_type": "stream",
     "text": [
      "/Users/abishkarchhetri/opt/anaconda3/envs/py36/lib/python3.6/site-packages/IPython/core/interactiveshell.py:2714: DtypeWarning: Columns (58,66,67,73,74,79,96,100) have mixed types.Specify dtype option on import or set low_memory=False.\n",
      "  interactivity=interactivity, compiler=compiler, result=result)\n"
     ]
    },
    {
     "name": "stdout",
     "output_type": "stream",
     "text": [
      "f?p=VOTERFTP:DOWNLOAD::FILE:NO:2:P2_PRODUCT_NUMBER:45\n"
     ]
    },
    {
     "name": "stderr",
     "output_type": "stream",
     "text": [
      "/Users/abishkarchhetri/opt/anaconda3/envs/py36/lib/python3.6/site-packages/IPython/core/interactiveshell.py:2714: DtypeWarning: Columns (20,58,66,67,73,74,79,87,93,96,97,100) have mixed types.Specify dtype option on import or set low_memory=False.\n",
      "  interactivity=interactivity, compiler=compiler, result=result)\n"
     ]
    },
    {
     "name": "stdout",
     "output_type": "stream",
     "text": [
      "f?p=VOTERFTP:DOWNLOAD::FILE:NO:2:P2_PRODUCT_NUMBER:87\n"
     ]
    },
    {
     "name": "stderr",
     "output_type": "stream",
     "text": [
      "/Users/abishkarchhetri/opt/anaconda3/envs/py36/lib/python3.6/site-packages/IPython/core/interactiveshell.py:2714: DtypeWarning: Columns (26,60,73,79,96) have mixed types.Specify dtype option on import or set low_memory=False.\n",
      "  interactivity=interactivity, compiler=compiler, result=result)\n"
     ]
    },
    {
     "name": "stdout",
     "output_type": "stream",
     "text": [
      "f?p=VOTERFTP:DOWNLOAD::FILE:NO:2:P2_PRODUCT_NUMBER:73\n"
     ]
    },
    {
     "name": "stderr",
     "output_type": "stream",
     "text": [
      "/Users/abishkarchhetri/opt/anaconda3/envs/py36/lib/python3.6/site-packages/IPython/core/interactiveshell.py:2714: DtypeWarning: Columns (66,67,79,96,103) have mixed types.Specify dtype option on import or set low_memory=False.\n",
      "  interactivity=interactivity, compiler=compiler, result=result)\n"
     ]
    },
    {
     "name": "stdout",
     "output_type": "stream",
     "text": [
      "f?p=VOTERFTP:DOWNLOAD::FILE:NO:2:P2_PRODUCT_NUMBER:74\n"
     ]
    },
    {
     "name": "stderr",
     "output_type": "stream",
     "text": [
      "/Users/abishkarchhetri/opt/anaconda3/envs/py36/lib/python3.6/site-packages/IPython/core/interactiveshell.py:2714: DtypeWarning: Columns (25,64,73,79,82,87,93,100,103) have mixed types.Specify dtype option on import or set low_memory=False.\n",
      "  interactivity=interactivity, compiler=compiler, result=result)\n"
     ]
    },
    {
     "name": "stdout",
     "output_type": "stream",
     "text": [
      "f?p=VOTERFTP:DOWNLOAD::FILE:NO:2:P2_PRODUCT_NUMBER:80\n"
     ]
    },
    {
     "name": "stderr",
     "output_type": "stream",
     "text": [
      "/Users/abishkarchhetri/opt/anaconda3/envs/py36/lib/python3.6/site-packages/IPython/core/interactiveshell.py:2714: DtypeWarning: Columns (25,26,58,64,66,67,73,74,79,93,96,99) have mixed types.Specify dtype option on import or set low_memory=False.\n",
      "  interactivity=interactivity, compiler=compiler, result=result)\n"
     ]
    },
    {
     "name": "stdout",
     "output_type": "stream",
     "text": [
      "f?p=VOTERFTP:DOWNLOAD::FILE:NO:2:P2_PRODUCT_NUMBER:17\n"
     ]
    },
    {
     "name": "stderr",
     "output_type": "stream",
     "text": [
      "/Users/abishkarchhetri/opt/anaconda3/envs/py36/lib/python3.6/site-packages/IPython/core/interactiveshell.py:2714: DtypeWarning: Columns (25,58,64,73,74,79,96,100) have mixed types.Specify dtype option on import or set low_memory=False.\n",
      "  interactivity=interactivity, compiler=compiler, result=result)\n"
     ]
    },
    {
     "name": "stdout",
     "output_type": "stream",
     "text": [
      "f?p=VOTERFTP:DOWNLOAD::FILE:NO:2:P2_PRODUCT_NUMBER:28\n"
     ]
    },
    {
     "name": "stderr",
     "output_type": "stream",
     "text": [
      "/Users/abishkarchhetri/opt/anaconda3/envs/py36/lib/python3.6/site-packages/IPython/core/interactiveshell.py:2714: DtypeWarning: Columns (25,26,58,64,66,67,74,87,93,100,103,106) have mixed types.Specify dtype option on import or set low_memory=False.\n",
      "  interactivity=interactivity, compiler=compiler, result=result)\n"
     ]
    },
    {
     "name": "stdout",
     "output_type": "stream",
     "text": [
      "f?p=VOTERFTP:DOWNLOAD::FILE:NO:2:P2_PRODUCT_NUMBER:10\n"
     ]
    },
    {
     "name": "stderr",
     "output_type": "stream",
     "text": [
      "/Users/abishkarchhetri/opt/anaconda3/envs/py36/lib/python3.6/site-packages/IPython/core/interactiveshell.py:2714: DtypeWarning: Columns (25,29,66,67) have mixed types.Specify dtype option on import or set low_memory=False.\n",
      "  interactivity=interactivity, compiler=compiler, result=result)\n"
     ]
    },
    {
     "name": "stdout",
     "output_type": "stream",
     "text": [
      "f?p=VOTERFTP:DOWNLOAD::FILE:NO:2:P2_PRODUCT_NUMBER:26\n"
     ]
    },
    {
     "name": "stderr",
     "output_type": "stream",
     "text": [
      "/Users/abishkarchhetri/opt/anaconda3/envs/py36/lib/python3.6/site-packages/IPython/core/interactiveshell.py:2714: DtypeWarning: Columns (25,60,79,93,96,100,103) have mixed types.Specify dtype option on import or set low_memory=False.\n",
      "  interactivity=interactivity, compiler=compiler, result=result)\n"
     ]
    },
    {
     "name": "stdout",
     "output_type": "stream",
     "text": [
      "f?p=VOTERFTP:DOWNLOAD::FILE:NO:2:P2_PRODUCT_NUMBER:19\n"
     ]
    },
    {
     "name": "stderr",
     "output_type": "stream",
     "text": [
      "/Users/abishkarchhetri/opt/anaconda3/envs/py36/lib/python3.6/site-packages/IPython/core/interactiveshell.py:2714: DtypeWarning: Columns (67,79,103) have mixed types.Specify dtype option on import or set low_memory=False.\n",
      "  interactivity=interactivity, compiler=compiler, result=result)\n"
     ]
    },
    {
     "name": "stdout",
     "output_type": "stream",
     "text": [
      "f?p=VOTERFTP:DOWNLOAD::FILE:NO:2:P2_PRODUCT_NUMBER:21\n"
     ]
    },
    {
     "name": "stderr",
     "output_type": "stream",
     "text": [
      "/Users/abishkarchhetri/opt/anaconda3/envs/py36/lib/python3.6/site-packages/IPython/core/interactiveshell.py:2714: DtypeWarning: Columns (20,25,26,58,64,73,74,78,82,87,93,96,100,106) have mixed types.Specify dtype option on import or set low_memory=False.\n",
      "  interactivity=interactivity, compiler=compiler, result=result)\n"
     ]
    },
    {
     "name": "stdout",
     "output_type": "stream",
     "text": [
      "f?p=VOTERFTP:DOWNLOAD::FILE:NO:2:P2_PRODUCT_NUMBER:81\n"
     ]
    },
    {
     "name": "stderr",
     "output_type": "stream",
     "text": [
      "/Users/abishkarchhetri/opt/anaconda3/envs/py36/lib/python3.6/site-packages/IPython/core/interactiveshell.py:2714: DtypeWarning: Columns (60,79,96,100) have mixed types.Specify dtype option on import or set low_memory=False.\n",
      "  interactivity=interactivity, compiler=compiler, result=result)\n"
     ]
    },
    {
     "name": "stdout",
     "output_type": "stream",
     "text": [
      "f?p=VOTERFTP:DOWNLOAD::FILE:NO:2:P2_PRODUCT_NUMBER:75\n"
     ]
    },
    {
     "name": "stderr",
     "output_type": "stream",
     "text": [
      "/Users/abishkarchhetri/opt/anaconda3/envs/py36/lib/python3.6/site-packages/IPython/core/interactiveshell.py:2714: DtypeWarning: Columns (20,33,34,58,60,66,67,79,81,96,99,103) have mixed types.Specify dtype option on import or set low_memory=False.\n",
      "  interactivity=interactivity, compiler=compiler, result=result)\n"
     ]
    },
    {
     "name": "stdout",
     "output_type": "stream",
     "text": [
      "f?p=VOTERFTP:DOWNLOAD::FILE:NO:2:P2_PRODUCT_NUMBER:72\n"
     ]
    },
    {
     "name": "stderr",
     "output_type": "stream",
     "text": [
      "/Users/abishkarchhetri/opt/anaconda3/envs/py36/lib/python3.6/site-packages/IPython/core/interactiveshell.py:2714: DtypeWarning: Columns (73) have mixed types.Specify dtype option on import or set low_memory=False.\n",
      "  interactivity=interactivity, compiler=compiler, result=result)\n"
     ]
    },
    {
     "name": "stdout",
     "output_type": "stream",
     "text": [
      "f?p=VOTERFTP:DOWNLOAD::FILE:NO:2:P2_PRODUCT_NUMBER:86\n"
     ]
    },
    {
     "name": "stderr",
     "output_type": "stream",
     "text": [
      "/Users/abishkarchhetri/opt/anaconda3/envs/py36/lib/python3.6/site-packages/IPython/core/interactiveshell.py:2714: DtypeWarning: Columns (58,60,64,74,79,87,93,100,103) have mixed types.Specify dtype option on import or set low_memory=False.\n",
      "  interactivity=interactivity, compiler=compiler, result=result)\n"
     ]
    },
    {
     "name": "stdout",
     "output_type": "stream",
     "text": [
      "f?p=VOTERFTP:DOWNLOAD::FILE:NO:2:P2_PRODUCT_NUMBER:44\n"
     ]
    },
    {
     "name": "stderr",
     "output_type": "stream",
     "text": [
      "/Users/abishkarchhetri/opt/anaconda3/envs/py36/lib/python3.6/site-packages/IPython/core/interactiveshell.py:2714: DtypeWarning: Columns (52,66,67,73,74,92,93,96,99,103,105) have mixed types.Specify dtype option on import or set low_memory=False.\n",
      "  interactivity=interactivity, compiler=compiler, result=result)\n"
     ]
    },
    {
     "name": "stdout",
     "output_type": "stream",
     "text": [
      "f?p=VOTERFTP:DOWNLOAD::FILE:NO:2:P2_PRODUCT_NUMBER:88\n"
     ]
    },
    {
     "name": "stderr",
     "output_type": "stream",
     "text": [
      "/Users/abishkarchhetri/opt/anaconda3/envs/py36/lib/python3.6/site-packages/IPython/core/interactiveshell.py:2714: DtypeWarning: Columns (58,74,87) have mixed types.Specify dtype option on import or set low_memory=False.\n",
      "  interactivity=interactivity, compiler=compiler, result=result)\n"
     ]
    },
    {
     "ename": "KeyboardInterrupt",
     "evalue": "",
     "output_type": "error",
     "traceback": [
      "\u001b[0;31m---------------------------------------------------------------------------\u001b[0m",
      "\u001b[0;31mKeyboardInterrupt\u001b[0m                         Traceback (most recent call last)",
      "\u001b[0;32m<ipython-input-44-64aba47d426d>\u001b[0m in \u001b[0;36m<module>\u001b[0;34m()\u001b[0m\n\u001b[1;32m      5\u001b[0m     \u001b[0mprint\u001b[0m\u001b[0;34m(\u001b[0m\u001b[0mfile\u001b[0m\u001b[0;34m)\u001b[0m\u001b[0;34m\u001b[0m\u001b[0;34m\u001b[0m\u001b[0m\n\u001b[1;32m      6\u001b[0m     \u001b[0mdf1\u001b[0m \u001b[0;34m=\u001b[0m \u001b[0mpd\u001b[0m\u001b[0;34m.\u001b[0m\u001b[0mread_csv\u001b[0m\u001b[0;34m(\u001b[0m\u001b[0mfilepath\u001b[0m\u001b[0;34m,\u001b[0m \u001b[0mheader\u001b[0m \u001b[0;34m=\u001b[0m \u001b[0;34m\"infer\"\u001b[0m\u001b[0;34m,\u001b[0m \u001b[0mencoding\u001b[0m\u001b[0;34m=\u001b[0m\u001b[0;34m'cp1252'\u001b[0m\u001b[0;34m)\u001b[0m\u001b[0;34m\u001b[0m\u001b[0;34m\u001b[0m\u001b[0m\n\u001b[0;32m----> 7\u001b[0;31m     \u001b[0mdf\u001b[0m \u001b[0;34m=\u001b[0m \u001b[0mpd\u001b[0m\u001b[0;34m.\u001b[0m\u001b[0mconcat\u001b[0m\u001b[0;34m(\u001b[0m\u001b[0;34m[\u001b[0m\u001b[0mdf\u001b[0m\u001b[0;34m,\u001b[0m \u001b[0mdf1\u001b[0m\u001b[0;34m]\u001b[0m\u001b[0;34m,\u001b[0m \u001b[0mignore_index\u001b[0m\u001b[0;34m=\u001b[0m\u001b[0;32mTrue\u001b[0m\u001b[0;34m)\u001b[0m\u001b[0;34m\u001b[0m\u001b[0;34m\u001b[0m\u001b[0m\n\u001b[0m",
      "\u001b[0;32m/Users/abishkarchhetri/opt/anaconda3/envs/py36/lib/python3.6/site-packages/pandas/core/reshape/concat.py\u001b[0m in \u001b[0;36mconcat\u001b[0;34m(objs, axis, join, ignore_index, keys, levels, names, verify_integrity, sort, copy)\u001b[0m\n\u001b[1;32m    285\u001b[0m     )\n\u001b[1;32m    286\u001b[0m \u001b[0;34m\u001b[0m\u001b[0m\n\u001b[0;32m--> 287\u001b[0;31m     \u001b[0;32mreturn\u001b[0m \u001b[0mop\u001b[0m\u001b[0;34m.\u001b[0m\u001b[0mget_result\u001b[0m\u001b[0;34m(\u001b[0m\u001b[0;34m)\u001b[0m\u001b[0;34m\u001b[0m\u001b[0;34m\u001b[0m\u001b[0m\n\u001b[0m\u001b[1;32m    288\u001b[0m \u001b[0;34m\u001b[0m\u001b[0m\n\u001b[1;32m    289\u001b[0m \u001b[0;34m\u001b[0m\u001b[0m\n",
      "\u001b[0;32m/Users/abishkarchhetri/opt/anaconda3/envs/py36/lib/python3.6/site-packages/pandas/core/reshape/concat.py\u001b[0m in \u001b[0;36mget_result\u001b[0;34m(self)\u001b[0m\n\u001b[1;32m    501\u001b[0m \u001b[0;34m\u001b[0m\u001b[0m\n\u001b[1;32m    502\u001b[0m             new_data = concatenate_block_managers(\n\u001b[0;32m--> 503\u001b[0;31m                 \u001b[0mmgrs_indexers\u001b[0m\u001b[0;34m,\u001b[0m \u001b[0mself\u001b[0m\u001b[0;34m.\u001b[0m\u001b[0mnew_axes\u001b[0m\u001b[0;34m,\u001b[0m \u001b[0mconcat_axis\u001b[0m\u001b[0;34m=\u001b[0m\u001b[0mself\u001b[0m\u001b[0;34m.\u001b[0m\u001b[0mbm_axis\u001b[0m\u001b[0;34m,\u001b[0m \u001b[0mcopy\u001b[0m\u001b[0;34m=\u001b[0m\u001b[0mself\u001b[0m\u001b[0;34m.\u001b[0m\u001b[0mcopy\u001b[0m\u001b[0;34m,\u001b[0m\u001b[0;34m\u001b[0m\u001b[0;34m\u001b[0m\u001b[0m\n\u001b[0m\u001b[1;32m    504\u001b[0m             )\n\u001b[1;32m    505\u001b[0m             \u001b[0;32mif\u001b[0m \u001b[0;32mnot\u001b[0m \u001b[0mself\u001b[0m\u001b[0;34m.\u001b[0m\u001b[0mcopy\u001b[0m\u001b[0;34m:\u001b[0m\u001b[0;34m\u001b[0m\u001b[0;34m\u001b[0m\u001b[0m\n",
      "\u001b[0;32m/Users/abishkarchhetri/opt/anaconda3/envs/py36/lib/python3.6/site-packages/pandas/core/internals/concat.py\u001b[0m in \u001b[0;36mconcatenate_block_managers\u001b[0;34m(mgrs_indexers, axes, concat_axis, copy)\u001b[0m\n\u001b[1;32m     77\u001b[0m         \u001b[0;32melse\u001b[0m\u001b[0;34m:\u001b[0m\u001b[0;34m\u001b[0m\u001b[0;34m\u001b[0m\u001b[0m\n\u001b[1;32m     78\u001b[0m             b = make_block(\n\u001b[0;32m---> 79\u001b[0;31m                 \u001b[0m_concatenate_join_units\u001b[0m\u001b[0;34m(\u001b[0m\u001b[0mjoin_units\u001b[0m\u001b[0;34m,\u001b[0m \u001b[0mconcat_axis\u001b[0m\u001b[0;34m,\u001b[0m \u001b[0mcopy\u001b[0m\u001b[0;34m=\u001b[0m\u001b[0mcopy\u001b[0m\u001b[0;34m,\u001b[0m\u001b[0;34m)\u001b[0m\u001b[0;34m,\u001b[0m\u001b[0;34m\u001b[0m\u001b[0;34m\u001b[0m\u001b[0m\n\u001b[0m\u001b[1;32m     80\u001b[0m                 \u001b[0mplacement\u001b[0m\u001b[0;34m=\u001b[0m\u001b[0mplacement\u001b[0m\u001b[0;34m,\u001b[0m\u001b[0;34m\u001b[0m\u001b[0;34m\u001b[0m\u001b[0m\n\u001b[1;32m     81\u001b[0m             )\n",
      "\u001b[0;32m/Users/abishkarchhetri/opt/anaconda3/envs/py36/lib/python3.6/site-packages/pandas/core/internals/concat.py\u001b[0m in \u001b[0;36m_concatenate_join_units\u001b[0;34m(join_units, concat_axis, copy)\u001b[0m\n\u001b[1;32m    316\u001b[0m     to_concat = [\n\u001b[1;32m    317\u001b[0m         \u001b[0mju\u001b[0m\u001b[0;34m.\u001b[0m\u001b[0mget_reindexed_values\u001b[0m\u001b[0;34m(\u001b[0m\u001b[0mempty_dtype\u001b[0m\u001b[0;34m=\u001b[0m\u001b[0mempty_dtype\u001b[0m\u001b[0;34m,\u001b[0m \u001b[0mupcasted_na\u001b[0m\u001b[0;34m=\u001b[0m\u001b[0mupcasted_na\u001b[0m\u001b[0;34m)\u001b[0m\u001b[0;34m\u001b[0m\u001b[0;34m\u001b[0m\u001b[0m\n\u001b[0;32m--> 318\u001b[0;31m         \u001b[0;32mfor\u001b[0m \u001b[0mju\u001b[0m \u001b[0;32min\u001b[0m \u001b[0mjoin_units\u001b[0m\u001b[0;34m\u001b[0m\u001b[0;34m\u001b[0m\u001b[0m\n\u001b[0m\u001b[1;32m    319\u001b[0m     ]\n\u001b[1;32m    320\u001b[0m \u001b[0;34m\u001b[0m\u001b[0m\n",
      "\u001b[0;32m/Users/abishkarchhetri/opt/anaconda3/envs/py36/lib/python3.6/site-packages/pandas/core/internals/concat.py\u001b[0m in \u001b[0;36m<listcomp>\u001b[0;34m(.0)\u001b[0m\n\u001b[1;32m    316\u001b[0m     to_concat = [\n\u001b[1;32m    317\u001b[0m         \u001b[0mju\u001b[0m\u001b[0;34m.\u001b[0m\u001b[0mget_reindexed_values\u001b[0m\u001b[0;34m(\u001b[0m\u001b[0mempty_dtype\u001b[0m\u001b[0;34m=\u001b[0m\u001b[0mempty_dtype\u001b[0m\u001b[0;34m,\u001b[0m \u001b[0mupcasted_na\u001b[0m\u001b[0;34m=\u001b[0m\u001b[0mupcasted_na\u001b[0m\u001b[0;34m)\u001b[0m\u001b[0;34m\u001b[0m\u001b[0;34m\u001b[0m\u001b[0m\n\u001b[0;32m--> 318\u001b[0;31m         \u001b[0;32mfor\u001b[0m \u001b[0mju\u001b[0m \u001b[0;32min\u001b[0m \u001b[0mjoin_units\u001b[0m\u001b[0;34m\u001b[0m\u001b[0;34m\u001b[0m\u001b[0m\n\u001b[0m\u001b[1;32m    319\u001b[0m     ]\n\u001b[1;32m    320\u001b[0m \u001b[0;34m\u001b[0m\u001b[0m\n",
      "\u001b[0;32m/Users/abishkarchhetri/opt/anaconda3/envs/py36/lib/python3.6/site-packages/pandas/core/internals/concat.py\u001b[0m in \u001b[0;36mget_reindexed_values\u001b[0;34m(self, empty_dtype, upcasted_na)\u001b[0m\n\u001b[1;32m    299\u001b[0m         \u001b[0;32melse\u001b[0m\u001b[0;34m:\u001b[0m\u001b[0;34m\u001b[0m\u001b[0;34m\u001b[0m\u001b[0m\n\u001b[1;32m    300\u001b[0m             \u001b[0;32mfor\u001b[0m \u001b[0max\u001b[0m\u001b[0;34m,\u001b[0m \u001b[0mindexer\u001b[0m \u001b[0;32min\u001b[0m \u001b[0mself\u001b[0m\u001b[0;34m.\u001b[0m\u001b[0mindexers\u001b[0m\u001b[0;34m.\u001b[0m\u001b[0mitems\u001b[0m\u001b[0;34m(\u001b[0m\u001b[0;34m)\u001b[0m\u001b[0;34m:\u001b[0m\u001b[0;34m\u001b[0m\u001b[0;34m\u001b[0m\u001b[0m\n\u001b[0;32m--> 301\u001b[0;31m                 \u001b[0mvalues\u001b[0m \u001b[0;34m=\u001b[0m \u001b[0malgos\u001b[0m\u001b[0;34m.\u001b[0m\u001b[0mtake_nd\u001b[0m\u001b[0;34m(\u001b[0m\u001b[0mvalues\u001b[0m\u001b[0;34m,\u001b[0m \u001b[0mindexer\u001b[0m\u001b[0;34m,\u001b[0m \u001b[0maxis\u001b[0m\u001b[0;34m=\u001b[0m\u001b[0max\u001b[0m\u001b[0;34m,\u001b[0m \u001b[0mfill_value\u001b[0m\u001b[0;34m=\u001b[0m\u001b[0mfill_value\u001b[0m\u001b[0;34m)\u001b[0m\u001b[0;34m\u001b[0m\u001b[0;34m\u001b[0m\u001b[0m\n\u001b[0m\u001b[1;32m    302\u001b[0m \u001b[0;34m\u001b[0m\u001b[0m\n\u001b[1;32m    303\u001b[0m         \u001b[0;32mreturn\u001b[0m \u001b[0mvalues\u001b[0m\u001b[0;34m\u001b[0m\u001b[0;34m\u001b[0m\u001b[0m\n",
      "\u001b[0;32m/Users/abishkarchhetri/opt/anaconda3/envs/py36/lib/python3.6/site-packages/pandas/core/algorithms.py\u001b[0m in \u001b[0;36mtake_nd\u001b[0;34m(arr, indexer, axis, out, fill_value, allow_fill)\u001b[0m\n\u001b[1;32m   1711\u001b[0m         \u001b[0marr\u001b[0m\u001b[0;34m.\u001b[0m\u001b[0mndim\u001b[0m\u001b[0;34m,\u001b[0m \u001b[0marr\u001b[0m\u001b[0;34m.\u001b[0m\u001b[0mdtype\u001b[0m\u001b[0;34m,\u001b[0m \u001b[0mout\u001b[0m\u001b[0;34m.\u001b[0m\u001b[0mdtype\u001b[0m\u001b[0;34m,\u001b[0m \u001b[0maxis\u001b[0m\u001b[0;34m=\u001b[0m\u001b[0maxis\u001b[0m\u001b[0;34m,\u001b[0m \u001b[0mmask_info\u001b[0m\u001b[0;34m=\u001b[0m\u001b[0mmask_info\u001b[0m\u001b[0;34m\u001b[0m\u001b[0;34m\u001b[0m\u001b[0m\n\u001b[1;32m   1712\u001b[0m     )\n\u001b[0;32m-> 1713\u001b[0;31m     \u001b[0mfunc\u001b[0m\u001b[0;34m(\u001b[0m\u001b[0marr\u001b[0m\u001b[0;34m,\u001b[0m \u001b[0mindexer\u001b[0m\u001b[0;34m,\u001b[0m \u001b[0mout\u001b[0m\u001b[0;34m,\u001b[0m \u001b[0mfill_value\u001b[0m\u001b[0;34m)\u001b[0m\u001b[0;34m\u001b[0m\u001b[0;34m\u001b[0m\u001b[0m\n\u001b[0m\u001b[1;32m   1714\u001b[0m \u001b[0;34m\u001b[0m\u001b[0m\n\u001b[1;32m   1715\u001b[0m     \u001b[0;32mif\u001b[0m \u001b[0mflip_order\u001b[0m\u001b[0;34m:\u001b[0m\u001b[0;34m\u001b[0m\u001b[0;34m\u001b[0m\u001b[0m\n",
      "\u001b[0;31mKeyboardInterrupt\u001b[0m: "
     ]
    }
   ],
   "source": [
    "folder = \"data\"\n",
    "all_data = []\n",
    "for file in os.listdir(folder):\n",
    "    filepath = os.path.join(folder, file)\n",
    "    print(file)\n",
    "    df1 = pd.read_csv(filepath, header = \"infer\", encoding='cp1252')\n",
    "    all_data.append(df1)\n",
    "    \n",
    "df_final = pd.concat(all_data, ignore_index=True)\n",
    "df_final.to_csv(\"ohio_voter_data_master_2.csv\", encoding='utf-8', index=False)"
   ]
  },
  {
   "cell_type": "code",
   "execution_count": null,
   "metadata": {},
   "outputs": [],
   "source": [
    "df"
   ]
  },
  {
   "cell_type": "code",
   "execution_count": null,
   "metadata": {},
   "outputs": [],
   "source": [
    "df.to_csv(\"ohio_voter_data_master.csv\", encoding='utf-8', index=False)"
   ]
  },
  {
   "cell_type": "code",
   "execution_count": null,
   "metadata": {},
   "outputs": [],
   "source": []
  }
 ],
 "metadata": {
  "kernelspec": {
   "display_name": "Python 3",
   "language": "python",
   "name": "python3"
  },
  "language_info": {
   "codemirror_mode": {
    "name": "ipython",
    "version": 3
   },
   "file_extension": ".py",
   "mimetype": "text/x-python",
   "name": "python",
   "nbconvert_exporter": "python",
   "pygments_lexer": "ipython3",
   "version": "3.7.10"
  }
 },
 "nbformat": 4,
 "nbformat_minor": 4
}
