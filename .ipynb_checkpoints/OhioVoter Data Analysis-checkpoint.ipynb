{
 "cells": [
  {
   "cell_type": "markdown",
   "id": "942311f4",
   "metadata": {},
   "source": [
    "# OhioVoter Data Analysis"
   ]
  },
  {
   "cell_type": "markdown",
   "id": "de760e55",
   "metadata": {},
   "source": [
    "**Setup**"
   ]
  },
  {
   "cell_type": "code",
   "execution_count": 2,
   "id": "dda7a0c3",
   "metadata": {},
   "outputs": [],
   "source": [
    "import sys\n",
    "assert sys.version_info >= (3,5)\n",
    "\n",
    "import sklearn\n",
    "assert sklearn.__version__ >= \"0.20\"\n",
    "\n",
    "#common imports\n",
    "import numpy as np\n",
    "import pandas as pd\n",
    "import os\n",
    "\n",
    "# To make this notebook's output stable across runs\n",
    "np.random.seed(42)\n",
    "\n",
    "#To plot pretty figures\n",
    "%matplotlib inline\n",
    "import matplotlib as mpl\n",
    "import matplotlib.pyplot as plt\n",
    "mpl.rc('axes', labelsize=14)\n",
    "mpl.rc('xtick', labelsize = 10)\n",
    "mpl.rc('ytick', labelsize = 10)\n",
    "\n",
    "#Where to save the figures\n",
    "PROJECT_ROOT_DIR = \".\"\n",
    "IMAGES_PATH = os.path.join(PROJECT_ROOT_DIR, \"images\")\n",
    "os.makedirs(IMAGES_PATH, exist_ok=True)\n",
    "\n",
    "def save_fig(fig_id, tight_layout=True, fig_extension='png', resolution=400):\n",
    "    path = os.path.join(IMAGES_PATH, fig_id + \".\" + fig_extension)\n",
    "    print(\"Saving figure\")\n",
    "    if tight_layout:\n",
    "        plt.tight_layout()\n",
    "    plt.savefig(path, format=fig_extension, dpi=resolution)"
   ]
  },
  {
   "cell_type": "code",
   "execution_count": 34,
   "id": "6093a6a5",
   "metadata": {},
   "outputs": [
    {
     "data": {
      "text/plain": [
       "''"
      ]
     },
     "execution_count": 34,
     "metadata": {},
     "output_type": "execute_result"
    }
   ],
   "source": [
    "surnames = open('surnames_en.csv').read().split(',\\n')\n",
    "surnames.pop(-1)"
   ]
  },
  {
   "cell_type": "code",
   "execution_count": 40,
   "id": "134d73f5",
   "metadata": {},
   "outputs": [
    {
     "data": {
      "text/plain": [
       "'AACHARYA'"
      ]
     },
     "execution_count": 40,
     "metadata": {},
     "output_type": "execute_result"
    }
   ],
   "source": [
    "surnames[1]"
   ]
  },
  {
   "cell_type": "code",
   "execution_count": 42,
   "id": "766acaea",
   "metadata": {},
   "outputs": [],
   "source": [
    "surnames_series = pd.Series(surnames[1:], name='surnames')"
   ]
  },
  {
   "cell_type": "code",
   "execution_count": 43,
   "id": "4958bdb1",
   "metadata": {},
   "outputs": [
    {
     "data": {
      "text/plain": [
       "0        AACHARYA\n",
       "1          AAFRIN\n",
       "2            AALA\n",
       "3           AALAM\n",
       "4       AALEMAGAR\n",
       "          ...    \n",
       "3058        YUGAL\n",
       "3059        YUSUF\n",
       "3060        ZAFAR\n",
       "3061       ZARRIN\n",
       "3062         ZOGI\n",
       "Name: surnames, Length: 3063, dtype: object"
      ]
     },
     "execution_count": 43,
     "metadata": {},
     "output_type": "execute_result"
    }
   ],
   "source": [
    "surnames_series"
   ]
  },
  {
   "cell_type": "code",
   "execution_count": null,
   "id": "7816b32a",
   "metadata": {},
   "outputs": [],
   "source": [
    "pd.Series?"
   ]
  },
  {
   "cell_type": "code",
   "execution_count": null,
   "id": "fb4db829",
   "metadata": {},
   "outputs": [],
   "source": []
  }
 ],
 "metadata": {
  "kernelspec": {
   "display_name": "Python 3",
   "language": "python",
   "name": "python3"
  },
  "language_info": {
   "codemirror_mode": {
    "name": "ipython",
    "version": 3
   },
   "file_extension": ".py",
   "mimetype": "text/x-python",
   "name": "python",
   "nbconvert_exporter": "python",
   "pygments_lexer": "ipython3",
   "version": "3.7.10"
  }
 },
 "nbformat": 4,
 "nbformat_minor": 5
}
